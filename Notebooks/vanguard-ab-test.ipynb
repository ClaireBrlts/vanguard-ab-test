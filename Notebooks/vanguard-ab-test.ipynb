{
 "cells": [
  {
   "cell_type": "code",
   "execution_count": null,
   "id": "1f2fa9d3",
   "metadata": {},
   "outputs": [],
   "source": [
    "import pandas as pd\n",
    "import numpy as np\n",
    "import scipy.stats as st\n",
    "import seaborn as sns\n",
    "import matplotlib.pyplot as plt\n",
    "from statsmodels.stats.proportion import proportions_ztest\n",
    "import pymysql\n",
    "from sqlalchemy import create_engine\n",
    "import mysql.connector\n",
    "\n",
    "from getpass import getpass\n"
   ]
  },
  {
   "cell_type": "code",
   "execution_count": 2,
   "id": "99b1e9dd",
   "metadata": {},
   "outputs": [],
   "source": [
    "demo_path =r'..\\Data\\Raw\\df_final_demo.txt'\n",
    "final_experiment_path = r'..\\Data\\Raw\\df_final_experiment_clients.txt'\n",
    "final_web_data_1_path = r'..\\Data\\Raw\\df_final_web_data_pt_1.txt'\n",
    "final_web_data_2_path = r'..\\Data\\Raw\\df_final_web_data_pt_2.txt'"
   ]
  },
  {
   "cell_type": "code",
   "execution_count": 3,
   "id": "64e036c4",
   "metadata": {},
   "outputs": [],
   "source": [
    "demo_df = pd.read_csv(demo_path)"
   ]
  },
  {
   "cell_type": "code",
   "execution_count": 4,
   "id": "ac32a5cb",
   "metadata": {},
   "outputs": [],
   "source": [
    "final_ex_clients_df = pd.read_csv(final_experiment_path)"
   ]
  },
  {
   "cell_type": "code",
   "execution_count": 5,
   "id": "d0c5bcb8",
   "metadata": {},
   "outputs": [],
   "source": [
    "final_web_1 = pd.read_csv(final_web_data_1_path)"
   ]
  },
  {
   "cell_type": "code",
   "execution_count": 6,
   "id": "66dec4e5",
   "metadata": {},
   "outputs": [],
   "source": [
    "final_web_2 = pd.read_csv(final_web_data_2_path)\n",
    "final_web_df = pd.concat([final_web_1, final_web_2])\n"
   ]
  },
  {
   "cell_type": "code",
   "execution_count": 7,
   "id": "fa1d0fa2",
   "metadata": {},
   "outputs": [],
   "source": [
    "final_ex_clients_df['Variation'].value_counts(dropna=False)\n",
    "final_ex_clients_df['Variation'].value_counts(dropna=False, normalize=True).apply(lambda x: f\"{x:.2%}\")\n",
    "#removing null values from experiment file\n",
    "final_ex_clients_df_clean = final_ex_clients_df.dropna()"
   ]
  },
  {
   "cell_type": "code",
   "execution_count": 8,
   "id": "4c5a54e6",
   "metadata": {},
   "outputs": [],
   "source": [
    "def get_generation():\n",
    "    \"\"\"\n",
    "    This function merges the demographic dataframe with the web dataframe to calculate the generation of each client:\n",
    "    Extracts year from date_time (from web dataframe)\n",
    "    Calculates year_born (year - age) -> rounded to 0 decimals\n",
    "    Calculates generation by binning year_born up until 2018 (data ends in 2017)\n",
    "    \"\"\"\n",
    "    merged_df = pd.merge(left=demo_df, right=final_web_df, how='inner', on='client_id')\n",
    "    merged_df['date_time'] = pd.to_datetime(merged_df['date_time'])\n",
    "    merged_df['year'] = merged_df['date_time'].dt.year\n",
    "        \n",
    "    gen_df = merged_df[['client_id', 'clnt_age', 'gendr', 'year']]\n",
    "    gen_df = gen_df.groupby(['client_id', 'gendr']).agg(age = ('clnt_age', 'mean'), year = ('year', 'mean')).reset_index()\n",
    "    gen_df['year_born'] = round(gen_df['year'] - gen_df['age'], 0)\n",
    "    bins = [1925, 1945, 1964, 1980, 1996, 2018]\n",
    "    labels = ['silent generation', 'baby boomers', 'generation x', 'millenial', 'generation z']\n",
    "    gen_df['generation'] = pd.cut(gen_df['year_born'], bins = bins, labels = labels)\n",
    "    gen_df = gen_df[['client_id', 'gendr', 'generation']]\n",
    "    return gen_df"
   ]
  },
  {
   "cell_type": "code",
   "execution_count": 9,
   "id": "ebb8db49",
   "metadata": {},
   "outputs": [],
   "source": [
    "def get_variation(dataframe):\n",
    "    dataframe_clean = dataframe['client_id'].isin(final_ex_clients_df_clean['client_id'])\n",
    "    #adding Variation column to web path file by merging with experiment file. This will enable us to calculate KPIs for both groups. \n",
    "    dataframe_clean = pd.merge(final_ex_clients_df_clean, dataframe, on='client_id')\n",
    "    #defining test and control group\n",
    "    return dataframe_clean"
   ]
  },
  {
   "cell_type": "code",
   "execution_count": 10,
   "id": "c9904839",
   "metadata": {},
   "outputs": [],
   "source": [
    "def get_group(dataframe): \n",
    "    test_group = dataframe[dataframe['Variation']=='Test']\n",
    "    control_group = dataframe[dataframe['Variation']=='Control']\n",
    "\n",
    "    return test_group, control_group"
   ]
  },
  {
   "cell_type": "code",
   "execution_count": 11,
   "id": "19f0067a",
   "metadata": {},
   "outputs": [],
   "source": [
    "clnt_gen_df = get_generation()\n",
    "demo_df_clean = get_variation(demo_df)\n",
    "clnt_gen_df_clean = get_variation(clnt_gen_df)\n",
    "final_web_df_clean = get_variation(final_web_df)"
   ]
  },
  {
   "cell_type": "code",
   "execution_count": 12,
   "id": "1e6cdabf",
   "metadata": {},
   "outputs": [],
   "source": [
    "def get_distribution_meassure_numerical(dataframe, column_name):\n",
    "    \"\"\"\n",
    "    Returns mean, median, mode, var, std, range and quantiles for the given column of dataframe\n",
    "    Also shows a historigram\n",
    "\n",
    "    Parameters:\n",
    "        dataframe (pd.DataFrame): The DataFrame containing the data.\n",
    "        column_name (str): The name of the numerical column to analyze.\n",
    "\n",
    "    Returns (not implemented):\n",
    "        mean (int).\n",
    "        median (int).\n",
    "        mode (int).\n",
    "        variation (int).\n",
    "        standard deviation (int).\n",
    "        range (int): calculated by the following formula dataframe[column_name].max() - dataframe[column_name].min()\n",
    "        quantiles (pd.Dataframe).\n",
    "\n",
    "    \"\"\"\n",
    "    mean = dataframe[column_name].mean()\n",
    "    median = dataframe[column_name].median()\n",
    "    mode = dataframe[column_name].mode()[0]\n",
    "    var = dataframe[column_name].var()\n",
    "    std = dataframe[column_name].std()\n",
    "\n",
    "    d_min = dataframe[column_name].min()\n",
    "    d_max = dataframe[column_name].max()\n",
    "    d_range = d_max - d_min\n",
    "\n",
    "    quantiles = dataframe[column_name].quantile([0.25, 0.50, 0.75])\n",
    "\n",
    "    print('------------------------')\n",
    "    print(f'distribution meassures for {column_name}')\n",
    "    print('------------------------')\n",
    "    print(f\"\"\"\"\n",
    "    mean is {mean}\n",
    "    median is {median}\n",
    "    mode is {mode}\n",
    "    var is {var}\n",
    "    std is {std}\n",
    "    max is {d_max} and min is {d_min}\n",
    "    range is {d_range}\n",
    "    quantiles are {quantiles}\n",
    "    \"\"\")\n",
    "    \n",
    "    sns.histplot(dataframe[column_name], kde=True, color='salmon')\n",
    "    plt.show()\n"
   ]
  },
  {
   "cell_type": "code",
   "execution_count": 13,
   "id": "86816129",
   "metadata": {},
   "outputs": [],
   "source": [
    "def get_bar_plot(column_x, column_y):\n",
    "    \"\"\"\n",
    "    returns bar plot\n",
    "    \"\"\"\n",
    "    sns.barplot(x = column_x,\n",
    "            y = column_y,\n",
    "            palette='Set2',\n",
    "            hue = column_x)\n",
    "\n",
    "    plt.xticks(rotation=70, fontsize=9)\n",
    "    plt.show()"
   ]
  },
  {
   "cell_type": "code",
   "execution_count": 14,
   "id": "9730294d",
   "metadata": {},
   "outputs": [],
   "source": [
    "def get_frequencies(dataframe, column_name = ''):\n",
    "    \"\"\"\n",
    "    Returns frequency and proportion tables for the given column of dataframe\n",
    "    Also displays a bar plot for the frequency table.\n",
    "\n",
    "    Parameters:\n",
    "        dataframe (pd.DataFrame): The DataFrame containing the data.\n",
    "        column_name (str): The name of the categorical column to analyze.\n",
    "\n",
    "    Returns (not implemented):\n",
    "        frequency_table (pd.Series): Count of each category.\n",
    "        proportion_table (pd.Series): Proportion of each category.\n",
    "    \"\"\"\n",
    "\n",
    "    if 'gendr' in dataframe.columns:\n",
    "        m_mask = dataframe['gendr'] == 'M'\n",
    "        f_mask = dataframe['gendr'] == 'F'\n",
    "        column_name = 'gendr'\n",
    "    \n",
    "    masked_categorical_df = dataframe[m_mask | f_mask]\n",
    "    frequency_table = masked_categorical_df[column_name].value_counts()\n",
    "\n",
    "    proportion_table = masked_categorical_df[column_name].value_counts(normalize=True).apply(lambda x: f\"{x:.2%}\")\n",
    "    \n",
    "\n",
    "    print(frequency_table)\n",
    "    print (proportion_table)\n",
    "\n",
    "    get_bar_plot(column_x= frequency_table.index, column_y=frequency_table.values)"
   ]
  },
  {
   "cell_type": "code",
   "execution_count": 15,
   "id": "57ba4847",
   "metadata": {},
   "outputs": [],
   "source": [
    "def get_frequencies_null_values(dataframe, column_name):\n",
    "    \"\"\"\n",
    "    Returns frequency and proportion tables for the given column of dataframe\n",
    "    Also displays a bar plot for the frequency table.\n",
    "\n",
    "    Parameters:\n",
    "        dataframe (pd.DataFrame): The DataFrame containing the data.\n",
    "        column_name (str): The name of the categorical column to analyze.\n",
    "\n",
    "    Returns (not implemented):\n",
    "        frequency_table (pd.Series): Count of each category.\n",
    "        proportion_table (pd.Series): Proportion of each category.\n",
    "    \"\"\"\n",
    "    if 'gendr' in dataframe.columns:\n",
    "        m_mask = dataframe['gendr'] == 'M'\n",
    "        f_mask = dataframe['gendr'] == 'F'\n",
    "        column_name = 'gendr'\n",
    "    \n",
    "    masked_categorical_df = dataframe[m_mask | f_mask]\n",
    "    frequency_table = masked_categorical_df[column_name].value_counts(dropna=False)\n",
    "\n",
    "    proportion_table = masked_categorical_df[column_name].value_counts(dropna=False, normalize=True).apply(lambda x: f\"{x:.2%}\")\n",
    "\n",
    "    print(frequency_table)\n",
    "    print (proportion_table)\n",
    "    get_bar_plot(column_x= frequency_table.index.astype(str), column_y=frequency_table.values)"
   ]
  },
  {
   "cell_type": "code",
   "execution_count": 16,
   "id": "26bcc5dd",
   "metadata": {},
   "outputs": [],
   "source": [
    "def get_demographics(dataframe):\n",
    "   \"\"\"\n",
    "   1. Observe which columns are numerical and which are categorical:\n",
    "   2. Are there any columns that are numerical but can be considered categorical?\n",
    "   3. Which are continuous and which are ordinal observations\n",
    "   4. Proceed with the analysis\n",
    "\n",
    "   Parameters:\n",
    "   dataframe (pd.DataFrame)\n",
    "\n",
    "   Returns:\n",
    "   0. numerical_df (pd.DataFrame)\n",
    "   1. categorical_df (pd.DataFrame)\n",
    "   \"\"\"\n",
    "\n",
    "   numerical_df = dataframe.select_dtypes('number')\n",
    "   categorical_df = dataframe.select_dtypes('object')\n",
    "\n",
    "   #Drop client id as it is not relevant for analysis\n",
    "   numerical_df.drop('client_id', axis=1, inplace=True)\n",
    "   display(numerical_df, categorical_df)\n",
    "   get_frequencies(dataframe)\n",
    "   for column in numerical_df.columns:\n",
    "      get_distribution_meassure_numerical(numerical_df, column)\n",
    "\n",
    "   return numerical_df, categorical_df"
   ]
  },
  {
   "cell_type": "code",
   "execution_count": null,
   "id": "50b1ee8e",
   "metadata": {},
   "outputs": [],
   "source": [
    "get_demographics(demo_df_clean)"
   ]
  },
  {
   "cell_type": "code",
   "execution_count": 17,
   "id": "1e13455f",
   "metadata": {},
   "outputs": [
    {
     "data": {
      "text/html": [
       "<div>\n",
       "<style scoped>\n",
       "    .dataframe tbody tr th:only-of-type {\n",
       "        vertical-align: middle;\n",
       "    }\n",
       "\n",
       "    .dataframe tbody tr th {\n",
       "        vertical-align: top;\n",
       "    }\n",
       "\n",
       "    .dataframe thead th {\n",
       "        text-align: right;\n",
       "    }\n",
       "</style>\n",
       "<table border=\"1\" class=\"dataframe\">\n",
       "  <thead>\n",
       "    <tr style=\"text-align: right;\">\n",
       "      <th></th>\n",
       "      <th>clnt_tenure_yr</th>\n",
       "      <th>clnt_tenure_mnth</th>\n",
       "      <th>clnt_age</th>\n",
       "      <th>num_accts</th>\n",
       "      <th>bal</th>\n",
       "      <th>calls_6_mnth</th>\n",
       "      <th>logons_6_mnth</th>\n",
       "    </tr>\n",
       "  </thead>\n",
       "  <tbody>\n",
       "    <tr>\n",
       "      <th>0</th>\n",
       "      <td>5.0</td>\n",
       "      <td>64.0</td>\n",
       "      <td>79.0</td>\n",
       "      <td>2.0</td>\n",
       "      <td>189023.86</td>\n",
       "      <td>1.0</td>\n",
       "      <td>4.0</td>\n",
       "    </tr>\n",
       "    <tr>\n",
       "      <th>1</th>\n",
       "      <td>22.0</td>\n",
       "      <td>274.0</td>\n",
       "      <td>34.5</td>\n",
       "      <td>2.0</td>\n",
       "      <td>36001.90</td>\n",
       "      <td>5.0</td>\n",
       "      <td>8.0</td>\n",
       "    </tr>\n",
       "    <tr>\n",
       "      <th>3</th>\n",
       "      <td>6.0</td>\n",
       "      <td>80.0</td>\n",
       "      <td>44.5</td>\n",
       "      <td>2.0</td>\n",
       "      <td>30231.76</td>\n",
       "      <td>1.0</td>\n",
       "      <td>4.0</td>\n",
       "    </tr>\n",
       "    <tr>\n",
       "      <th>5</th>\n",
       "      <td>11.0</td>\n",
       "      <td>137.0</td>\n",
       "      <td>27.0</td>\n",
       "      <td>2.0</td>\n",
       "      <td>46131.19</td>\n",
       "      <td>1.0</td>\n",
       "      <td>4.0</td>\n",
       "    </tr>\n",
       "    <tr>\n",
       "      <th>6</th>\n",
       "      <td>21.0</td>\n",
       "      <td>254.0</td>\n",
       "      <td>53.5</td>\n",
       "      <td>2.0</td>\n",
       "      <td>192109.59</td>\n",
       "      <td>6.0</td>\n",
       "      <td>9.0</td>\n",
       "    </tr>\n",
       "    <tr>\n",
       "      <th>...</th>\n",
       "      <td>...</td>\n",
       "      <td>...</td>\n",
       "      <td>...</td>\n",
       "      <td>...</td>\n",
       "      <td>...</td>\n",
       "      <td>...</td>\n",
       "      <td>...</td>\n",
       "    </tr>\n",
       "    <tr>\n",
       "      <th>50490</th>\n",
       "      <td>19.0</td>\n",
       "      <td>238.0</td>\n",
       "      <td>26.5</td>\n",
       "      <td>2.0</td>\n",
       "      <td>35887.12</td>\n",
       "      <td>0.0</td>\n",
       "      <td>3.0</td>\n",
       "    </tr>\n",
       "    <tr>\n",
       "      <th>50492</th>\n",
       "      <td>14.0</td>\n",
       "      <td>179.0</td>\n",
       "      <td>60.5</td>\n",
       "      <td>3.0</td>\n",
       "      <td>85826.90</td>\n",
       "      <td>4.0</td>\n",
       "      <td>7.0</td>\n",
       "    </tr>\n",
       "    <tr>\n",
       "      <th>50497</th>\n",
       "      <td>6.0</td>\n",
       "      <td>74.0</td>\n",
       "      <td>62.0</td>\n",
       "      <td>2.0</td>\n",
       "      <td>58778.11</td>\n",
       "      <td>2.0</td>\n",
       "      <td>5.0</td>\n",
       "    </tr>\n",
       "    <tr>\n",
       "      <th>50498</th>\n",
       "      <td>23.0</td>\n",
       "      <td>278.0</td>\n",
       "      <td>30.5</td>\n",
       "      <td>2.0</td>\n",
       "      <td>61349.70</td>\n",
       "      <td>0.0</td>\n",
       "      <td>3.0</td>\n",
       "    </tr>\n",
       "    <tr>\n",
       "      <th>50499</th>\n",
       "      <td>4.0</td>\n",
       "      <td>53.0</td>\n",
       "      <td>66.5</td>\n",
       "      <td>2.0</td>\n",
       "      <td>93103.47</td>\n",
       "      <td>6.0</td>\n",
       "      <td>9.0</td>\n",
       "    </tr>\n",
       "  </tbody>\n",
       "</table>\n",
       "<p>26968 rows × 7 columns</p>\n",
       "</div>"
      ],
      "text/plain": [
       "       clnt_tenure_yr  clnt_tenure_mnth  clnt_age  num_accts        bal  \\\n",
       "0                 5.0              64.0      79.0        2.0  189023.86   \n",
       "1                22.0             274.0      34.5        2.0   36001.90   \n",
       "3                 6.0              80.0      44.5        2.0   30231.76   \n",
       "5                11.0             137.0      27.0        2.0   46131.19   \n",
       "6                21.0             254.0      53.5        2.0  192109.59   \n",
       "...               ...               ...       ...        ...        ...   \n",
       "50490            19.0             238.0      26.5        2.0   35887.12   \n",
       "50492            14.0             179.0      60.5        3.0   85826.90   \n",
       "50497             6.0              74.0      62.0        2.0   58778.11   \n",
       "50498            23.0             278.0      30.5        2.0   61349.70   \n",
       "50499             4.0              53.0      66.5        2.0   93103.47   \n",
       "\n",
       "       calls_6_mnth  logons_6_mnth  \n",
       "0               1.0            4.0  \n",
       "1               5.0            8.0  \n",
       "3               1.0            4.0  \n",
       "5               1.0            4.0  \n",
       "6               6.0            9.0  \n",
       "...             ...            ...  \n",
       "50490           0.0            3.0  \n",
       "50492           4.0            7.0  \n",
       "50497           2.0            5.0  \n",
       "50498           0.0            3.0  \n",
       "50499           6.0            9.0  \n",
       "\n",
       "[26968 rows x 7 columns]"
      ]
     },
     "metadata": {},
     "output_type": "display_data"
    },
    {
     "data": {
      "text/html": [
       "<div>\n",
       "<style scoped>\n",
       "    .dataframe tbody tr th:only-of-type {\n",
       "        vertical-align: middle;\n",
       "    }\n",
       "\n",
       "    .dataframe tbody tr th {\n",
       "        vertical-align: top;\n",
       "    }\n",
       "\n",
       "    .dataframe thead th {\n",
       "        text-align: right;\n",
       "    }\n",
       "</style>\n",
       "<table border=\"1\" class=\"dataframe\">\n",
       "  <thead>\n",
       "    <tr style=\"text-align: right;\">\n",
       "      <th></th>\n",
       "      <th>Variation</th>\n",
       "      <th>gendr</th>\n",
       "    </tr>\n",
       "  </thead>\n",
       "  <tbody>\n",
       "    <tr>\n",
       "      <th>0</th>\n",
       "      <td>Test</td>\n",
       "      <td>U</td>\n",
       "    </tr>\n",
       "    <tr>\n",
       "      <th>1</th>\n",
       "      <td>Test</td>\n",
       "      <td>M</td>\n",
       "    </tr>\n",
       "    <tr>\n",
       "      <th>3</th>\n",
       "      <td>Test</td>\n",
       "      <td>U</td>\n",
       "    </tr>\n",
       "    <tr>\n",
       "      <th>5</th>\n",
       "      <td>Test</td>\n",
       "      <td>F</td>\n",
       "    </tr>\n",
       "    <tr>\n",
       "      <th>6</th>\n",
       "      <td>Test</td>\n",
       "      <td>F</td>\n",
       "    </tr>\n",
       "    <tr>\n",
       "      <th>...</th>\n",
       "      <td>...</td>\n",
       "      <td>...</td>\n",
       "    </tr>\n",
       "    <tr>\n",
       "      <th>50490</th>\n",
       "      <td>Test</td>\n",
       "      <td>F</td>\n",
       "    </tr>\n",
       "    <tr>\n",
       "      <th>50492</th>\n",
       "      <td>Test</td>\n",
       "      <td>F</td>\n",
       "    </tr>\n",
       "    <tr>\n",
       "      <th>50497</th>\n",
       "      <td>Test</td>\n",
       "      <td>M</td>\n",
       "    </tr>\n",
       "    <tr>\n",
       "      <th>50498</th>\n",
       "      <td>Test</td>\n",
       "      <td>M</td>\n",
       "    </tr>\n",
       "    <tr>\n",
       "      <th>50499</th>\n",
       "      <td>Test</td>\n",
       "      <td>U</td>\n",
       "    </tr>\n",
       "  </tbody>\n",
       "</table>\n",
       "<p>26968 rows × 2 columns</p>\n",
       "</div>"
      ],
      "text/plain": [
       "      Variation gendr\n",
       "0          Test     U\n",
       "1          Test     M\n",
       "3          Test     U\n",
       "5          Test     F\n",
       "6          Test     F\n",
       "...         ...   ...\n",
       "50490      Test     F\n",
       "50492      Test     F\n",
       "50497      Test     M\n",
       "50498      Test     M\n",
       "50499      Test     U\n",
       "\n",
       "[26968 rows x 2 columns]"
      ]
     },
     "metadata": {},
     "output_type": "display_data"
    },
    {
     "name": "stdout",
     "output_type": "stream",
     "text": [
      "gendr\n",
      "M    8977\n",
      "F    8716\n",
      "Name: count, dtype: int64\n",
      "gendr\n",
      "M    50.74%\n",
      "F    49.26%\n",
      "Name: proportion, dtype: object\n"
     ]
    },
    {
     "data": {
      "image/png": "[encoded data removed]",
      "text/plain": [
       "<Figure size 640x480 with 1 Axes>"
      ]
     },
     "metadata": {},
     "output_type": "display_data"
    },
    {
     "name": "stdout",
     "output_type": "stream",
     "text": [
      "------------------------\n",
      "distribution meassures for clnt_tenure_yr\n",
      "------------------------\n",
      "\"\n",
      "    mean is 11.98290122769927\n",
      "    median is 11.0\n",
      "    mode is 5.0\n",
      "    var is 46.85330554398289\n",
      "    std is 6.844947446400366\n",
      "    max is 55.0 and min is 2.0\n",
      "    range is 53.0\n",
      "    quantiles are 0.25     6.0\n",
      "0.50    11.0\n",
      "0.75    15.0\n",
      "Name: clnt_tenure_yr, dtype: float64\n",
      "    \n"
     ]
    },
    {
     "data": {
      "image/png": "[encoded data removed]",
      "text/plain": [
       "<Figure size 640x480 with 1 Axes>"
      ]
     },
     "metadata": {},
     "output_type": "display_data"
    },
    {
     "name": "stdout",
     "output_type": "stream",
     "text": [
      "------------------------\n",
      "distribution meassures for clnt_tenure_mnth\n",
      "------------------------\n",
      "\"\n",
      "    mean is 149.8528986313564\n",
      "    median is 134.0\n",
      "    mode is 58.0\n",
      "    var is 6688.522870770555\n",
      "    std is 81.7833899442335\n",
      "    max is 669.0 and min is 33.0\n",
      "    range is 636.0\n",
      "    quantiles are 0.25     82.0\n",
      "0.50    134.0\n",
      "0.75    191.0\n",
      "Name: clnt_tenure_mnth, dtype: float64\n",
      "    \n"
     ]
    },
    {
     "data": {
      "image/png": "[encoded data removed]",
      "text/plain": [
       "<Figure size 640x480 with 1 Axes>"
      ]
     },
     "metadata": {},
     "output_type": "display_data"
    },
    {
     "name": "stdout",
     "output_type": "stream",
     "text": [
      "------------------------\n",
      "distribution meassures for clnt_age\n",
      "------------------------\n",
      "\"\n",
      "    mean is 47.16392196135158\n",
      "    median is 47.5\n",
      "    mode is 29.5\n",
      "    var is 240.6984902407949\n",
      "    std is 15.514460681596216\n",
      "    max is 96.0 and min is 17.0\n",
      "    range is 79.0\n",
      "    quantiles are 0.25    33.5\n",
      "0.50    47.5\n",
      "0.75    59.5\n",
      "Name: clnt_age, dtype: float64\n",
      "    \n"
     ]
    },
    {
     "data": {
      "image/png": "[encoded data removed]",
      "text/plain": [
       "<Figure size 640x480 with 1 Axes>"
      ]
     },
     "metadata": {},
     "output_type": "display_data"
    },
    {
     "name": "stdout",
     "output_type": "stream",
     "text": [
      "------------------------\n",
      "distribution meassures for num_accts\n",
      "------------------------\n",
      "\"\n",
      "    mean is 2.2499165461221766\n",
      "    median is 2.0\n",
      "    mode is 2.0\n",
      "    var is 0.2801951896226605\n",
      "    std is 0.5293346669382807\n",
      "    max is 7.0 and min is 1.0\n",
      "    range is 6.0\n",
      "    quantiles are 0.25    2.0\n",
      "0.50    2.0\n",
      "0.75    2.0\n",
      "Name: num_accts, dtype: float64\n",
      "    \n"
     ]
    },
    {
     "data": {
      "image/png": "[encoded data removed]",
      "text/plain": [
       "<Figure size 640x480 with 1 Axes>"
      ]
     },
     "metadata": {},
     "output_type": "display_data"
    },
    {
     "name": "stdout",
     "output_type": "stream",
     "text": [
      "------------------------\n",
      "distribution meassures for bal\n",
      "------------------------\n",
      "\"\n",
      "    mean is 148962.6050317125\n",
      "    median is 65468.36\n",
      "    mode is 29389.11\n",
      "    var is 94478599919.82713\n",
      "    std is 307373.7137749862\n",
      "    max is 16320040.15 and min is 23789.44\n",
      "    range is 16296250.71\n",
      "    quantiles are 0.25     39729.20\n",
      "0.50     65468.36\n",
      "0.75    139478.58\n",
      "Name: bal, dtype: float64\n",
      "    \n"
     ]
    },
    {
     "data": {
      "image/png": "[encoded data removed]",
      "text/plain": [
       "<Figure size 640x480 with 1 Axes>"
      ]
     },
     "metadata": {},
     "output_type": "display_data"
    },
    {
     "name": "stdout",
     "output_type": "stream",
     "text": [
      "------------------------\n",
      "distribution meassures for calls_6_mnth\n",
      "------------------------\n",
      "\"\n",
      "    mean is 3.061941322651237\n",
      "    median is 3.0\n",
      "    mode is 6.0\n",
      "    var is 4.798685385429082\n",
      "    std is 2.1905901911195262\n",
      "    max is 6.0 and min is 0.0\n",
      "    range is 6.0\n",
      "    quantiles are 0.25    1.0\n",
      "0.50    3.0\n",
      "0.75    5.0\n",
      "Name: calls_6_mnth, dtype: float64\n",
      "    \n"
     ]
    },
    {
     "data": {
      "image/png": "[encoded data removed]",
      "text/plain": [
       "<Figure size 640x480 with 1 Axes>"
      ]
     },
     "metadata": {},
     "output_type": "display_data"
    },
    {
     "name": "stdout",
     "output_type": "stream",
     "text": [
      "------------------------\n",
      "distribution meassures for logons_6_mnth\n",
      "------------------------\n",
      "\"\n",
      "    mean is 6.101850821557064\n",
      "    median is 6.0\n",
      "    mode is 9.0\n",
      "    var is 4.739848577299679\n",
      "    std is 2.1771193300551257\n",
      "    max is 9.0 and min is 3.0\n",
      "    range is 6.0\n",
      "    quantiles are 0.25    4.0\n",
      "0.50    6.0\n",
      "0.75    8.0\n",
      "Name: logons_6_mnth, dtype: float64\n",
      "    \n"
     ]
    },
    {
     "data": {
      "image/png": "[encoded data removed]",
      "text/plain": [
       "<Figure size 640x480 with 1 Axes>"
      ]
     },
     "metadata": {},
     "output_type": "display_data"
    },
    {
     "data": {
      "text/html": [
       "<div>\n",
       "<style scoped>\n",
       "    .dataframe tbody tr th:only-of-type {\n",
       "        vertical-align: middle;\n",
       "    }\n",
       "\n",
       "    .dataframe tbody tr th {\n",
       "        vertical-align: top;\n",
       "    }\n",
       "\n",
       "    .dataframe thead th {\n",
       "        text-align: right;\n",
       "    }\n",
       "</style>\n",
       "<table border=\"1\" class=\"dataframe\">\n",
       "  <thead>\n",
       "    <tr style=\"text-align: right;\">\n",
       "      <th></th>\n",
       "      <th>clnt_tenure_yr</th>\n",
       "      <th>clnt_tenure_mnth</th>\n",
       "      <th>clnt_age</th>\n",
       "      <th>num_accts</th>\n",
       "      <th>bal</th>\n",
       "      <th>calls_6_mnth</th>\n",
       "      <th>logons_6_mnth</th>\n",
       "    </tr>\n",
       "  </thead>\n",
       "  <tbody>\n",
       "    <tr>\n",
       "      <th>2</th>\n",
       "      <td>12.0</td>\n",
       "      <td>149.0</td>\n",
       "      <td>63.5</td>\n",
       "      <td>2.0</td>\n",
       "      <td>142642.26</td>\n",
       "      <td>5.0</td>\n",
       "      <td>8.0</td>\n",
       "    </tr>\n",
       "    <tr>\n",
       "      <th>4</th>\n",
       "      <td>5.0</td>\n",
       "      <td>70.0</td>\n",
       "      <td>29.0</td>\n",
       "      <td>2.0</td>\n",
       "      <td>34254.54</td>\n",
       "      <td>0.0</td>\n",
       "      <td>3.0</td>\n",
       "    </tr>\n",
       "    <tr>\n",
       "      <th>7</th>\n",
       "      <td>13.0</td>\n",
       "      <td>162.0</td>\n",
       "      <td>56.5</td>\n",
       "      <td>2.0</td>\n",
       "      <td>324712.88</td>\n",
       "      <td>4.0</td>\n",
       "      <td>7.0</td>\n",
       "    </tr>\n",
       "    <tr>\n",
       "      <th>9</th>\n",
       "      <td>6.0</td>\n",
       "      <td>74.0</td>\n",
       "      <td>61.5</td>\n",
       "      <td>2.0</td>\n",
       "      <td>39795.28</td>\n",
       "      <td>1.0</td>\n",
       "      <td>4.0</td>\n",
       "    </tr>\n",
       "    <tr>\n",
       "      <th>12</th>\n",
       "      <td>12.0</td>\n",
       "      <td>149.0</td>\n",
       "      <td>32.5</td>\n",
       "      <td>2.0</td>\n",
       "      <td>33807.15</td>\n",
       "      <td>1.0</td>\n",
       "      <td>4.0</td>\n",
       "    </tr>\n",
       "    <tr>\n",
       "      <th>...</th>\n",
       "      <td>...</td>\n",
       "      <td>...</td>\n",
       "      <td>...</td>\n",
       "      <td>...</td>\n",
       "      <td>...</td>\n",
       "      <td>...</td>\n",
       "      <td>...</td>\n",
       "    </tr>\n",
       "    <tr>\n",
       "      <th>50491</th>\n",
       "      <td>7.0</td>\n",
       "      <td>87.0</td>\n",
       "      <td>31.5</td>\n",
       "      <td>2.0</td>\n",
       "      <td>106927.60</td>\n",
       "      <td>0.0</td>\n",
       "      <td>4.0</td>\n",
       "    </tr>\n",
       "    <tr>\n",
       "      <th>50493</th>\n",
       "      <td>27.0</td>\n",
       "      <td>334.0</td>\n",
       "      <td>50.0</td>\n",
       "      <td>3.0</td>\n",
       "      <td>464879.31</td>\n",
       "      <td>2.0</td>\n",
       "      <td>5.0</td>\n",
       "    </tr>\n",
       "    <tr>\n",
       "      <th>50494</th>\n",
       "      <td>18.0</td>\n",
       "      <td>226.0</td>\n",
       "      <td>63.5</td>\n",
       "      <td>3.0</td>\n",
       "      <td>89726.65</td>\n",
       "      <td>2.0</td>\n",
       "      <td>5.0</td>\n",
       "    </tr>\n",
       "    <tr>\n",
       "      <th>50495</th>\n",
       "      <td>15.0</td>\n",
       "      <td>191.0</td>\n",
       "      <td>52.5</td>\n",
       "      <td>2.0</td>\n",
       "      <td>60344.67</td>\n",
       "      <td>1.0</td>\n",
       "      <td>4.0</td>\n",
       "    </tr>\n",
       "    <tr>\n",
       "      <th>50496</th>\n",
       "      <td>21.0</td>\n",
       "      <td>252.0</td>\n",
       "      <td>34.0</td>\n",
       "      <td>3.0</td>\n",
       "      <td>141808.05</td>\n",
       "      <td>6.0</td>\n",
       "      <td>9.0</td>\n",
       "    </tr>\n",
       "  </tbody>\n",
       "</table>\n",
       "<p>23532 rows × 7 columns</p>\n",
       "</div>"
      ],
      "text/plain": [
       "       clnt_tenure_yr  clnt_tenure_mnth  clnt_age  num_accts        bal  \\\n",
       "2                12.0             149.0      63.5        2.0  142642.26   \n",
       "4                 5.0              70.0      29.0        2.0   34254.54   \n",
       "7                13.0             162.0      56.5        2.0  324712.88   \n",
       "9                 6.0              74.0      61.5        2.0   39795.28   \n",
       "12               12.0             149.0      32.5        2.0   33807.15   \n",
       "...               ...               ...       ...        ...        ...   \n",
       "50491             7.0              87.0      31.5        2.0  106927.60   \n",
       "50493            27.0             334.0      50.0        3.0  464879.31   \n",
       "50494            18.0             226.0      63.5        3.0   89726.65   \n",
       "50495            15.0             191.0      52.5        2.0   60344.67   \n",
       "50496            21.0             252.0      34.0        3.0  141808.05   \n",
       "\n",
       "       calls_6_mnth  logons_6_mnth  \n",
       "2               5.0            8.0  \n",
       "4               0.0            3.0  \n",
       "7               4.0            7.0  \n",
       "9               1.0            4.0  \n",
       "12              1.0            4.0  \n",
       "...             ...            ...  \n",
       "50491           0.0            4.0  \n",
       "50493           2.0            5.0  \n",
       "50494           2.0            5.0  \n",
       "50495           1.0            4.0  \n",
       "50496           6.0            9.0  \n",
       "\n",
       "[23532 rows x 7 columns]"
      ]
     },
     "metadata": {},
     "output_type": "display_data"
    },
    {
     "data": {
      "text/html": [
       "<div>\n",
       "<style scoped>\n",
       "    .dataframe tbody tr th:only-of-type {\n",
       "        vertical-align: middle;\n",
       "    }\n",
       "\n",
       "    .dataframe tbody tr th {\n",
       "        vertical-align: top;\n",
       "    }\n",
       "\n",
       "    .dataframe thead th {\n",
       "        text-align: right;\n",
       "    }\n",
       "</style>\n",
       "<table border=\"1\" class=\"dataframe\">\n",
       "  <thead>\n",
       "    <tr style=\"text-align: right;\">\n",
       "      <th></th>\n",
       "      <th>Variation</th>\n",
       "      <th>gendr</th>\n",
       "    </tr>\n",
       "  </thead>\n",
       "  <tbody>\n",
       "    <tr>\n",
       "      <th>2</th>\n",
       "      <td>Control</td>\n",
       "      <td>M</td>\n",
       "    </tr>\n",
       "    <tr>\n",
       "      <th>4</th>\n",
       "      <td>Control</td>\n",
       "      <td>U</td>\n",
       "    </tr>\n",
       "    <tr>\n",
       "      <th>7</th>\n",
       "      <td>Control</td>\n",
       "      <td>M</td>\n",
       "    </tr>\n",
       "    <tr>\n",
       "      <th>9</th>\n",
       "      <td>Control</td>\n",
       "      <td>U</td>\n",
       "    </tr>\n",
       "    <tr>\n",
       "      <th>12</th>\n",
       "      <td>Control</td>\n",
       "      <td>F</td>\n",
       "    </tr>\n",
       "    <tr>\n",
       "      <th>...</th>\n",
       "      <td>...</td>\n",
       "      <td>...</td>\n",
       "    </tr>\n",
       "    <tr>\n",
       "      <th>50491</th>\n",
       "      <td>Control</td>\n",
       "      <td>M</td>\n",
       "    </tr>\n",
       "    <tr>\n",
       "      <th>50493</th>\n",
       "      <td>Control</td>\n",
       "      <td>F</td>\n",
       "    </tr>\n",
       "    <tr>\n",
       "      <th>50494</th>\n",
       "      <td>Control</td>\n",
       "      <td>F</td>\n",
       "    </tr>\n",
       "    <tr>\n",
       "      <th>50495</th>\n",
       "      <td>Control</td>\n",
       "      <td>M</td>\n",
       "    </tr>\n",
       "    <tr>\n",
       "      <th>50496</th>\n",
       "      <td>Control</td>\n",
       "      <td>M</td>\n",
       "    </tr>\n",
       "  </tbody>\n",
       "</table>\n",
       "<p>23532 rows × 2 columns</p>\n",
       "</div>"
      ],
      "text/plain": [
       "      Variation gendr\n",
       "2       Control     M\n",
       "4       Control     U\n",
       "7       Control     M\n",
       "9       Control     U\n",
       "12      Control     F\n",
       "...         ...   ...\n",
       "50491   Control     M\n",
       "50493   Control     F\n",
       "50494   Control     F\n",
       "50495   Control     M\n",
       "50496   Control     M\n",
       "\n",
       "[23532 rows x 2 columns]"
      ]
     },
     "metadata": {},
     "output_type": "display_data"
    },
    {
     "name": "stdout",
     "output_type": "stream",
     "text": [
      "gendr\n",
      "M    7970\n",
      "F    7543\n",
      "Name: count, dtype: int64\n",
      "gendr\n",
      "M    51.38%\n",
      "F    48.62%\n",
      "Name: proportion, dtype: object\n"
     ]
    },
    {
     "data": {
      "image/png": "[encoded data removed]",
      "text/plain": [
       "<Figure size 640x480 with 1 Axes>"
      ]
     },
     "metadata": {},
     "output_type": "display_data"
    },
    {
     "name": "stdout",
     "output_type": "stream",
     "text": [
      "------------------------\n",
      "distribution meassures for clnt_tenure_yr\n",
      "------------------------\n",
      "\"\n",
      "    mean is 12.087686487865007\n",
      "    median is 11.0\n",
      "    mode is 6.0\n",
      "    var is 47.30043793146166\n",
      "    std is 6.8775313835315695\n",
      "    max is 55.0 and min is 2.0\n",
      "    range is 53.0\n",
      "    quantiles are 0.25     6.0\n",
      "0.50    11.0\n",
      "0.75    16.0\n",
      "Name: clnt_tenure_yr, dtype: float64\n",
      "    \n"
     ]
    },
    {
     "data": {
      "image/png": "[encoded data removed]",
      "text/plain": [
       "<Figure size 640x480 with 1 Axes>"
      ]
     },
     "metadata": {},
     "output_type": "display_data"
    },
    {
     "name": "stdout",
     "output_type": "stream",
     "text": [
      "------------------------\n",
      "distribution meassures for clnt_tenure_mnth\n",
      "------------------------\n",
      "\"\n",
      "    mean is 151.06018616908233\n",
      "    median is 137.0\n",
      "    mode is 58.0\n",
      "    var is 6744.752647130114\n",
      "    std is 82.12644304443067\n",
      "    max is 669.0 and min is 33.0\n",
      "    range is 636.0\n",
      "    quantiles are 0.25     82.0\n",
      "0.50    137.0\n",
      "0.75    192.0\n",
      "Name: clnt_tenure_mnth, dtype: float64\n",
      "    \n"
     ]
    },
    {
     "data": {
      "image/png": "[encoded data removed]",
      "text/plain": [
       "<Figure size 640x480 with 1 Axes>"
      ]
     },
     "metadata": {},
     "output_type": "display_data"
    },
    {
     "name": "stdout",
     "output_type": "stream",
     "text": [
      "------------------------\n",
      "distribution meassures for clnt_age\n",
      "------------------------\n",
      "\"\n",
      "    mean is 47.498427271954434\n",
      "    median is 48.5\n",
      "    mode is 58.5\n",
      "    var is 240.92569359443544\n",
      "    std is 15.521781263580396\n",
      "    max is 96.0 and min is 17.0\n",
      "    range is 79.0\n",
      "    quantiles are 0.25    33.5\n",
      "0.50    48.5\n",
      "0.75    60.0\n",
      "Name: clnt_age, dtype: float64\n",
      "    \n"
     ]
    },
    {
     "data": {
      "image/png": "[encoded data removed]",
      "text/plain": [
       "<Figure size 640x480 with 1 Axes>"
      ]
     },
     "metadata": {},
     "output_type": "display_data"
    },
    {
     "name": "stdout",
     "output_type": "stream",
     "text": [
      "------------------------\n",
      "distribution meassures for num_accts\n",
      "------------------------\n",
      "\"\n",
      "    mean is 2.2599141411994728\n",
      "    median is 2.0\n",
      "    mode is 2.0\n",
      "    var is 0.29004612031637106\n",
      "    std is 0.5385593006497715\n",
      "    max is 7.0 and min is 2.0\n",
      "    range is 5.0\n",
      "    quantiles are 0.25    2.0\n",
      "0.50    2.0\n",
      "0.75    2.0\n",
      "Name: num_accts, dtype: float64\n",
      "    \n"
     ]
    },
    {
     "data": {
      "image/png": "[encoded data removed]",
      "text/plain": [
       "<Figure size 640x480 with 1 Axes>"
      ]
     },
     "metadata": {},
     "output_type": "display_data"
    },
    {
     "name": "stdout",
     "output_type": "stream",
     "text": [
      "------------------------\n",
      "distribution meassures for bal\n",
      "------------------------\n",
      "\"\n",
      "    mean is 150147.32665958258\n",
      "    median is 66024.18\n",
      "    mode is 31188.62\n",
      "    var is 87501751881.4051\n",
      "    std is 295806.95036020555\n",
      "    max is 8292996.21 and min is 23789.61\n",
      "    range is 8269206.6\n",
      "    quantiles are 0.25     40123.355\n",
      "0.50     66024.180\n",
      "0.75    140606.045\n",
      "Name: bal, dtype: float64\n",
      "    \n"
     ]
    },
    {
     "data": {
      "image/png": "[encoded data removed]",
      "text/plain": [
       "<Figure size 640x480 with 1 Axes>"
      ]
     },
     "metadata": {},
     "output_type": "display_data"
    },
    {
     "name": "stdout",
     "output_type": "stream",
     "text": [
      "------------------------\n",
      "distribution meassures for calls_6_mnth\n",
      "------------------------\n",
      "\"\n",
      "    mean is 3.1292132443575467\n",
      "    median is 3.0\n",
      "    mode is 6.0\n",
      "    var is 4.772047595729862\n",
      "    std is 2.184501681329145\n",
      "    max is 6.0 and min is 0.0\n",
      "    range is 6.0\n",
      "    quantiles are 0.25    1.0\n",
      "0.50    3.0\n",
      "0.75    5.0\n",
      "Name: calls_6_mnth, dtype: float64\n",
      "    \n"
     ]
    },
    {
     "data": {
      "image/png": "[encoded data removed]",
      "text/plain": [
       "<Figure size 640x480 with 1 Axes>"
      ]
     },
     "metadata": {},
     "output_type": "display_data"
    },
    {
     "name": "stdout",
     "output_type": "stream",
     "text": [
      "------------------------\n",
      "distribution meassures for logons_6_mnth\n",
      "------------------------\n",
      "\"\n",
      "    mean is 6.166277043396948\n",
      "    median is 6.0\n",
      "    mode is 9.0\n",
      "    var is 4.721989467237278\n",
      "    std is 2.1730139132636217\n",
      "    max is 9.0 and min is 3.0\n",
      "    range is 6.0\n",
      "    quantiles are 0.25    4.0\n",
      "0.50    6.0\n",
      "0.75    8.0\n",
      "Name: logons_6_mnth, dtype: float64\n",
      "    \n"
     ]
    },
    {
     "data": {
      "image/png": "[encoded data removed]",
      "text/plain": [
       "<Figure size 640x480 with 1 Axes>"
      ]
     },
     "metadata": {},
     "output_type": "display_data"
    },
    {
     "data": {
      "text/plain": [
       "(       clnt_tenure_yr  clnt_tenure_mnth  clnt_age  num_accts        bal  \\\n",
       " 2                12.0             149.0      63.5        2.0  142642.26   \n",
       " 4                 5.0              70.0      29.0        2.0   34254.54   \n",
       " 7                13.0             162.0      56.5        2.0  324712.88   \n",
       " 9                 6.0              74.0      61.5        2.0   39795.28   \n",
       " 12               12.0             149.0      32.5        2.0   33807.15   \n",
       " ...               ...               ...       ...        ...        ...   \n",
       " 50491             7.0              87.0      31.5        2.0  106927.60   \n",
       " 50493            27.0             334.0      50.0        3.0  464879.31   \n",
       " 50494            18.0             226.0      63.5        3.0   89726.65   \n",
       " 50495            15.0             191.0      52.5        2.0   60344.67   \n",
       " 50496            21.0             252.0      34.0        3.0  141808.05   \n",
       " \n",
       "        calls_6_mnth  logons_6_mnth  \n",
       " 2               5.0            8.0  \n",
       " 4               0.0            3.0  \n",
       " 7               4.0            7.0  \n",
       " 9               1.0            4.0  \n",
       " 12              1.0            4.0  \n",
       " ...             ...            ...  \n",
       " 50491           0.0            4.0  \n",
       " 50493           2.0            5.0  \n",
       " 50494           2.0            5.0  \n",
       " 50495           1.0            4.0  \n",
       " 50496           6.0            9.0  \n",
       " \n",
       " [23532 rows x 7 columns],\n",
       "       Variation gendr\n",
       " 2       Control     M\n",
       " 4       Control     U\n",
       " 7       Control     M\n",
       " 9       Control     U\n",
       " 12      Control     F\n",
       " ...         ...   ...\n",
       " 50491   Control     M\n",
       " 50493   Control     F\n",
       " 50494   Control     F\n",
       " 50495   Control     M\n",
       " 50496   Control     M\n",
       " \n",
       " [23532 rows x 2 columns])"
      ]
     },
     "execution_count": 17,
     "metadata": {},
     "output_type": "execute_result"
    }
   ],
   "source": [
    "get_demographics(get_group(demo_df_clean)[0])\n",
    "get_demographics(get_group(demo_df_clean)[1])"
   ]
  },
  {
   "cell_type": "code",
   "execution_count": 18,
   "id": "aa8fa77a",
   "metadata": {},
   "outputs": [
    {
     "data": {
      "text/html": [
       "<div>\n",
       "<style scoped>\n",
       "    .dataframe tbody tr th:only-of-type {\n",
       "        vertical-align: middle;\n",
       "    }\n",
       "\n",
       "    .dataframe tbody tr th {\n",
       "        vertical-align: top;\n",
       "    }\n",
       "\n",
       "    .dataframe thead th {\n",
       "        text-align: right;\n",
       "    }\n",
       "</style>\n",
       "<table border=\"1\" class=\"dataframe\">\n",
       "  <thead>\n",
       "    <tr style=\"text-align: right;\">\n",
       "      <th></th>\n",
       "    </tr>\n",
       "  </thead>\n",
       "  <tbody>\n",
       "    <tr>\n",
       "      <th>0</th>\n",
       "    </tr>\n",
       "    <tr>\n",
       "      <th>1</th>\n",
       "    </tr>\n",
       "    <tr>\n",
       "      <th>3</th>\n",
       "    </tr>\n",
       "    <tr>\n",
       "      <th>5</th>\n",
       "    </tr>\n",
       "    <tr>\n",
       "      <th>6</th>\n",
       "    </tr>\n",
       "    <tr>\n",
       "      <th>...</th>\n",
       "    </tr>\n",
       "    <tr>\n",
       "      <th>50478</th>\n",
       "    </tr>\n",
       "    <tr>\n",
       "      <th>50480</th>\n",
       "    </tr>\n",
       "    <tr>\n",
       "      <th>50485</th>\n",
       "    </tr>\n",
       "    <tr>\n",
       "      <th>50486</th>\n",
       "    </tr>\n",
       "    <tr>\n",
       "      <th>50487</th>\n",
       "    </tr>\n",
       "  </tbody>\n",
       "</table>\n",
       "<p>26961 rows × 0 columns</p>\n",
       "</div>"
      ],
      "text/plain": [
       "Empty DataFrame\n",
       "Columns: []\n",
       "Index: [0, 1, 3, 5, 6, 8, 10, 11, 13, 16, 17, 18, 19, 21, 22, 23, 25, 26, 28, 30, 32, 33, 34, 35, 37, 41, 42, 44, 47, 48, 50, 51, 52, 54, 55, 56, 59, 63, 69, 70, 73, 74, 77, 79, 80, 82, 83, 85, 89, 90, 93, 94, 95, 98, 99, 101, 102, 104, 105, 107, 108, 110, 111, 112, 113, 115, 116, 118, 121, 122, 125, 126, 128, 133, 134, 138, 139, 140, 141, 142, 143, 150, 151, 153, 155, 156, 159, 164, 166, 167, 168, 169, 171, 174, 177, 179, 180, 182, 183, 185, ...]\n",
       "\n",
       "[26961 rows x 0 columns]"
      ]
     },
     "metadata": {},
     "output_type": "display_data"
    },
    {
     "data": {
      "text/html": [
       "<div>\n",
       "<style scoped>\n",
       "    .dataframe tbody tr th:only-of-type {\n",
       "        vertical-align: middle;\n",
       "    }\n",
       "\n",
       "    .dataframe tbody tr th {\n",
       "        vertical-align: top;\n",
       "    }\n",
       "\n",
       "    .dataframe thead th {\n",
       "        text-align: right;\n",
       "    }\n",
       "</style>\n",
       "<table border=\"1\" class=\"dataframe\">\n",
       "  <thead>\n",
       "    <tr style=\"text-align: right;\">\n",
       "      <th></th>\n",
       "      <th>Variation</th>\n",
       "      <th>gendr</th>\n",
       "    </tr>\n",
       "  </thead>\n",
       "  <tbody>\n",
       "    <tr>\n",
       "      <th>0</th>\n",
       "      <td>Test</td>\n",
       "      <td>U</td>\n",
       "    </tr>\n",
       "    <tr>\n",
       "      <th>1</th>\n",
       "      <td>Test</td>\n",
       "      <td>M</td>\n",
       "    </tr>\n",
       "    <tr>\n",
       "      <th>3</th>\n",
       "      <td>Test</td>\n",
       "      <td>U</td>\n",
       "    </tr>\n",
       "    <tr>\n",
       "      <th>5</th>\n",
       "      <td>Test</td>\n",
       "      <td>F</td>\n",
       "    </tr>\n",
       "    <tr>\n",
       "      <th>6</th>\n",
       "      <td>Test</td>\n",
       "      <td>F</td>\n",
       "    </tr>\n",
       "    <tr>\n",
       "      <th>...</th>\n",
       "      <td>...</td>\n",
       "      <td>...</td>\n",
       "    </tr>\n",
       "    <tr>\n",
       "      <th>50478</th>\n",
       "      <td>Test</td>\n",
       "      <td>F</td>\n",
       "    </tr>\n",
       "    <tr>\n",
       "      <th>50480</th>\n",
       "      <td>Test</td>\n",
       "      <td>F</td>\n",
       "    </tr>\n",
       "    <tr>\n",
       "      <th>50485</th>\n",
       "      <td>Test</td>\n",
       "      <td>M</td>\n",
       "    </tr>\n",
       "    <tr>\n",
       "      <th>50486</th>\n",
       "      <td>Test</td>\n",
       "      <td>M</td>\n",
       "    </tr>\n",
       "    <tr>\n",
       "      <th>50487</th>\n",
       "      <td>Test</td>\n",
       "      <td>U</td>\n",
       "    </tr>\n",
       "  </tbody>\n",
       "</table>\n",
       "<p>26961 rows × 2 columns</p>\n",
       "</div>"
      ],
      "text/plain": [
       "      Variation gendr\n",
       "0          Test     U\n",
       "1          Test     M\n",
       "3          Test     U\n",
       "5          Test     F\n",
       "6          Test     F\n",
       "...         ...   ...\n",
       "50478      Test     F\n",
       "50480      Test     F\n",
       "50485      Test     M\n",
       "50486      Test     M\n",
       "50487      Test     U\n",
       "\n",
       "[26961 rows x 2 columns]"
      ]
     },
     "metadata": {},
     "output_type": "display_data"
    },
    {
     "name": "stdout",
     "output_type": "stream",
     "text": [
      "gendr\n",
      "M    8977\n",
      "F    8716\n",
      "Name: count, dtype: int64\n",
      "gendr\n",
      "M    50.74%\n",
      "F    49.26%\n",
      "Name: proportion, dtype: object\n"
     ]
    },
    {
     "data": {
      "image/png": "[encoded data removed]",
      "text/plain": [
       "<Figure size 640x480 with 1 Axes>"
      ]
     },
     "metadata": {},
     "output_type": "display_data"
    },
    {
     "data": {
      "text/html": [
       "<div>\n",
       "<style scoped>\n",
       "    .dataframe tbody tr th:only-of-type {\n",
       "        vertical-align: middle;\n",
       "    }\n",
       "\n",
       "    .dataframe tbody tr th {\n",
       "        vertical-align: top;\n",
       "    }\n",
       "\n",
       "    .dataframe thead th {\n",
       "        text-align: right;\n",
       "    }\n",
       "</style>\n",
       "<table border=\"1\" class=\"dataframe\">\n",
       "  <thead>\n",
       "    <tr style=\"text-align: right;\">\n",
       "      <th></th>\n",
       "    </tr>\n",
       "  </thead>\n",
       "  <tbody>\n",
       "    <tr>\n",
       "      <th>2</th>\n",
       "    </tr>\n",
       "    <tr>\n",
       "      <th>4</th>\n",
       "    </tr>\n",
       "    <tr>\n",
       "      <th>7</th>\n",
       "    </tr>\n",
       "    <tr>\n",
       "      <th>9</th>\n",
       "    </tr>\n",
       "    <tr>\n",
       "      <th>12</th>\n",
       "    </tr>\n",
       "    <tr>\n",
       "      <th>...</th>\n",
       "    </tr>\n",
       "    <tr>\n",
       "      <th>50479</th>\n",
       "    </tr>\n",
       "    <tr>\n",
       "      <th>50481</th>\n",
       "    </tr>\n",
       "    <tr>\n",
       "      <th>50482</th>\n",
       "    </tr>\n",
       "    <tr>\n",
       "      <th>50483</th>\n",
       "    </tr>\n",
       "    <tr>\n",
       "      <th>50484</th>\n",
       "    </tr>\n",
       "  </tbody>\n",
       "</table>\n",
       "<p>23527 rows × 0 columns</p>\n",
       "</div>"
      ],
      "text/plain": [
       "Empty DataFrame\n",
       "Columns: []\n",
       "Index: [2, 4, 7, 9, 12, 14, 15, 20, 24, 27, 29, 31, 36, 38, 39, 40, 43, 45, 46, 49, 53, 57, 58, 60, 61, 62, 64, 65, 66, 67, 68, 71, 72, 75, 76, 78, 81, 84, 86, 87, 88, 91, 92, 96, 97, 100, 103, 106, 109, 114, 117, 119, 120, 123, 124, 127, 129, 130, 131, 132, 135, 136, 137, 144, 145, 146, 147, 148, 149, 152, 154, 157, 158, 160, 161, 162, 163, 165, 170, 172, 173, 175, 176, 178, 181, 184, 188, 191, 192, 196, 197, 199, 204, 205, 206, 208, 209, 212, 213, 220, ...]\n",
       "\n",
       "[23527 rows x 0 columns]"
      ]
     },
     "metadata": {},
     "output_type": "display_data"
    },
    {
     "data": {
      "text/html": [
       "<div>\n",
       "<style scoped>\n",
       "    .dataframe tbody tr th:only-of-type {\n",
       "        vertical-align: middle;\n",
       "    }\n",
       "\n",
       "    .dataframe tbody tr th {\n",
       "        vertical-align: top;\n",
       "    }\n",
       "\n",
       "    .dataframe thead th {\n",
       "        text-align: right;\n",
       "    }\n",
       "</style>\n",
       "<table border=\"1\" class=\"dataframe\">\n",
       "  <thead>\n",
       "    <tr style=\"text-align: right;\">\n",
       "      <th></th>\n",
       "      <th>Variation</th>\n",
       "      <th>gendr</th>\n",
       "    </tr>\n",
       "  </thead>\n",
       "  <tbody>\n",
       "    <tr>\n",
       "      <th>2</th>\n",
       "      <td>Control</td>\n",
       "      <td>M</td>\n",
       "    </tr>\n",
       "    <tr>\n",
       "      <th>4</th>\n",
       "      <td>Control</td>\n",
       "      <td>U</td>\n",
       "    </tr>\n",
       "    <tr>\n",
       "      <th>7</th>\n",
       "      <td>Control</td>\n",
       "      <td>M</td>\n",
       "    </tr>\n",
       "    <tr>\n",
       "      <th>9</th>\n",
       "      <td>Control</td>\n",
       "      <td>U</td>\n",
       "    </tr>\n",
       "    <tr>\n",
       "      <th>12</th>\n",
       "      <td>Control</td>\n",
       "      <td>F</td>\n",
       "    </tr>\n",
       "    <tr>\n",
       "      <th>...</th>\n",
       "      <td>...</td>\n",
       "      <td>...</td>\n",
       "    </tr>\n",
       "    <tr>\n",
       "      <th>50479</th>\n",
       "      <td>Control</td>\n",
       "      <td>M</td>\n",
       "    </tr>\n",
       "    <tr>\n",
       "      <th>50481</th>\n",
       "      <td>Control</td>\n",
       "      <td>F</td>\n",
       "    </tr>\n",
       "    <tr>\n",
       "      <th>50482</th>\n",
       "      <td>Control</td>\n",
       "      <td>F</td>\n",
       "    </tr>\n",
       "    <tr>\n",
       "      <th>50483</th>\n",
       "      <td>Control</td>\n",
       "      <td>M</td>\n",
       "    </tr>\n",
       "    <tr>\n",
       "      <th>50484</th>\n",
       "      <td>Control</td>\n",
       "      <td>M</td>\n",
       "    </tr>\n",
       "  </tbody>\n",
       "</table>\n",
       "<p>23527 rows × 2 columns</p>\n",
       "</div>"
      ],
      "text/plain": [
       "      Variation gendr\n",
       "2       Control     M\n",
       "4       Control     U\n",
       "7       Control     M\n",
       "9       Control     U\n",
       "12      Control     F\n",
       "...         ...   ...\n",
       "50479   Control     M\n",
       "50481   Control     F\n",
       "50482   Control     F\n",
       "50483   Control     M\n",
       "50484   Control     M\n",
       "\n",
       "[23527 rows x 2 columns]"
      ]
     },
     "metadata": {},
     "output_type": "display_data"
    },
    {
     "name": "stdout",
     "output_type": "stream",
     "text": [
      "gendr\n",
      "M    7970\n",
      "F    7543\n",
      "Name: count, dtype: int64\n",
      "gendr\n",
      "M    51.38%\n",
      "F    48.62%\n",
      "Name: proportion, dtype: object\n"
     ]
    },
    {
     "data": {
      "image/png": "[encoded data removed]",
      "text/plain": [
       "<Figure size 640x480 with 1 Axes>"
      ]
     },
     "metadata": {},
     "output_type": "display_data"
    },
    {
     "data": {
      "text/plain": [
       "(Empty DataFrame\n",
       " Columns: []\n",
       " Index: [2, 4, 7, 9, 12, 14, 15, 20, 24, 27, 29, 31, 36, 38, 39, 40, 43, 45, 46, 49, 53, 57, 58, 60, 61, 62, 64, 65, 66, 67, 68, 71, 72, 75, 76, 78, 81, 84, 86, 87, 88, 91, 92, 96, 97, 100, 103, 106, 109, 114, 117, 119, 120, 123, 124, 127, 129, 130, 131, 132, 135, 136, 137, 144, 145, 146, 147, 148, 149, 152, 154, 157, 158, 160, 161, 162, 163, 165, 170, 172, 173, 175, 176, 178, 181, 184, 188, 191, 192, 196, 197, 199, 204, 205, 206, 208, 209, 212, 213, 220, ...]\n",
       " \n",
       " [23527 rows x 0 columns],\n",
       "       Variation gendr\n",
       " 2       Control     M\n",
       " 4       Control     U\n",
       " 7       Control     M\n",
       " 9       Control     U\n",
       " 12      Control     F\n",
       " ...         ...   ...\n",
       " 50479   Control     M\n",
       " 50481   Control     F\n",
       " 50482   Control     F\n",
       " 50483   Control     M\n",
       " 50484   Control     M\n",
       " \n",
       " [23527 rows x 2 columns])"
      ]
     },
     "execution_count": 18,
     "metadata": {},
     "output_type": "execute_result"
    }
   ],
   "source": [
    "get_demographics(get_group(clnt_gen_df_clean)[0])\n",
    "get_demographics(get_group(clnt_gen_df_clean)[1])"
   ]
  },
  {
   "cell_type": "code",
   "execution_count": 17,
   "id": "bd8e3257",
   "metadata": {},
   "outputs": [],
   "source": [
    "def get_completion_data(df):\n",
    "    completed_df = df[df['process_step']=='confirm'].sort_values(by='date_time', ascending=True)\n",
    "\n",
    "    n_completions = completed_df['visit_id'].nunique() \n",
    "    n = df['visit_id'].nunique()\n",
    "\n",
    "    return n_completions, n"
   ]
  },
  {
   "cell_type": "code",
   "execution_count": 18,
   "id": "aad27f23",
   "metadata": {},
   "outputs": [
    {
     "data": {
      "text/plain": [
       "process_step\n",
       "start      56474\n",
       "step_1     38768\n",
       "step_2     30989\n",
       "step_3     25894\n",
       "confirm    25722\n",
       "Name: count, dtype: int64"
      ]
     },
     "execution_count": 18,
     "metadata": {},
     "output_type": "execute_result"
    }
   ],
   "source": [
    "function_df = get_group(final_web_df_clean)[0]\n",
    "function_df['process_step'].value_counts()"
   ]
  },
  {
   "cell_type": "code",
   "execution_count": 19,
   "id": "f1d7520b",
   "metadata": {},
   "outputs": [
    {
     "data": {
      "text/plain": [
       "37136"
      ]
     },
     "execution_count": 19,
     "metadata": {},
     "output_type": "execute_result"
    }
   ],
   "source": [
    "function_df = get_group(final_web_df_clean)[0]\n",
    "\n",
    "completed_df = function_df[function_df['process_step']=='confirm']\n",
    "completed_df['visit_id'].nunique() \n",
    "function_df['visit_id'].nunique()\n"
   ]
  },
  {
   "cell_type": "code",
   "execution_count": 20,
   "id": "3df32d0c",
   "metadata": {},
   "outputs": [],
   "source": [
    "# Time Spent on Each Step\n",
    "def time_spent_on_each_step(df):\n",
    "    df = df.sort_values(by='date_time', ascending=True).copy()\n",
    "    df['next_date_time'] = df.groupby('visit_id')['date_time'].shift(-1)\n",
    "    df['duration'] = pd.to_datetime(df['next_date_time'])-pd.to_datetime(df['date_time'])\n",
    "    df['duration']\n",
    "    df.to_csv('duration.csv')\n",
    "    return df['duration']"
   ]
  },
  {
   "cell_type": "code",
   "execution_count": 21,
   "id": "bc697c51",
   "metadata": {},
   "outputs": [],
   "source": [
    "# Time Spent on Each Step\n",
    "def time_spent_on_step(df, step):\n",
    "\n",
    "    df = df.sort_values(by='date_time', ascending=True).copy()\n",
    "    df['next_date_time'] = df.groupby('visit_id')['date_time'].shift(-1)\n",
    "    filered = df[df['process_step'] == step]\n",
    "    filered['duration'] = pd.to_datetime(filered['next_date_time'])-pd.to_datetime(filered['date_time'])\n",
    "    df.to_csv('step_duration.csv')\n",
    "    return filered['duration']"
   ]
  },
  {
   "cell_type": "code",
   "execution_count": 33,
   "id": "0a0c0c44",
   "metadata": {},
   "outputs": [],
   "source": [
    "def get_error_data(dataframe):\n",
    "    \"\"\"\n",
    "    This function returns if a step has an error (meaning the previous step is the same as the next)\n",
    "    It makes sure that the client_id and visit_id are the same (no errors between different clients/sessions)\n",
    "    \n",
    "    Parameters:\n",
    "    step_dataframe (pd.DataFrame): it is important that this df has client_id, visit_id and process_step for this function to work\n",
    "\n",
    "    Returns:\n",
    "    error_rate (float)\n",
    "    \"\"\"\n",
    "    step_to_int = {'start': 0,\n",
    "                'step_1': 1,\n",
    "                'step_2': 2,\n",
    "                'step_3' : 3,\n",
    "                'confirm': 4}\n",
    "    step_dataframe = dataframe.copy()\n",
    "    step_dataframe = step_dataframe.sort_values(by=['date_time', 'visit_id', 'client_id'], ascending=True)\n",
    "    function_df = step_dataframe[['client_id', 'visit_id', 'process_step']].copy()\n",
    "\n",
    "    function_df['step_int'] = function_df['process_step'].map(step_to_int)\n",
    "    function_df['next_expected_step'] = function_df['step_int'].apply(lambda x: x+1 if x < 4 else 4 )\n",
    "    #function_df = function_df.reset_index(drop=True)\n",
    "    condition_client = function_df['client_id'] == function_df['client_id'].shift(-1)\n",
    "    condition_visit = function_df['visit_id'] == function_df['visit_id'].shift(-1)\n",
    "    condition_expected_step = function_df['next_expected_step'] != function_df['step_int'].shift(-1)\n",
    "\n",
    "    function_df['step_validation'] = np.where(condition_client & condition_visit & condition_expected_step, \n",
    "                                    'error', \n",
    "                                    'ok')\n",
    "\n",
    "    filtered = function_df[function_df['step_validation'] == 'error']\n",
    "    n_errors = filtered['visit_id'].nunique()\n",
    "    n = function_df['visit_id'].nunique()\n",
    "    return n_errors, n, function_df\n"
   ]
  },
  {
   "cell_type": "markdown",
   "id": "06095034",
   "metadata": {},
   "source": [
    "Completion ratio\n",
    "\n",
    "H0: control_completion_rate >= test_completion_rate \n",
    "H1: control_completion_rate < test_completion_rate"
   ]
  },
  {
   "cell_type": "code",
   "execution_count": 24,
   "id": "d4035172",
   "metadata": {},
   "outputs": [
    {
     "name": "stdout",
     "output_type": "stream",
     "text": [
      "test: (21731, 37136) rate is 0.5851734166307626\n",
      "control: (16046, 32189) rate is 0.4984932740998478\n",
      "[21731, 16046]\n",
      "[37136, 32189]\n",
      "Z = 22.85684118615931, p = 1.249501073264425e-115\n"
     ]
    }
   ],
   "source": [
    "#H0 test_completion = control_completion\n",
    "#H1 test_completion != control_completion\n",
    "\n",
    "test_results = get_completion_data(get_group(final_web_df_clean)[0])\n",
    "print(f'test: {test_results} rate is {test_results[0]/test_results[1]}')\n",
    "test_completions = test_results[0]\n",
    "test_count = test_results[1]\n",
    "\n",
    "control_results = get_completion_data(get_group(final_web_df_clean)[1])\n",
    "print(f'control: {control_results} rate is {control_results[0]/control_results[1]}')\n",
    "control_completions = control_results[0]\n",
    "control_count = control_results[1]\n",
    "\n",
    "# Example data\n",
    "confirms = [test_completions, control_completions]      # number of completions\n",
    "print(confirms)\n",
    "users = [test_count, control_count]        # number of users\n",
    "print(users)\n",
    "\n",
    "# Run the test\n",
    "z_stat, p_value = proportions_ztest(confirms, users, alternative='two-sided')\n",
    "\n",
    "# Output\n",
    "print(f\"Z = {z_stat}, p = {p_value}\")"
   ]
  },
  {
   "cell_type": "code",
   "execution_count": 25,
   "id": "22d2b4a4",
   "metadata": {},
   "outputs": [
    {
     "name": "stdout",
     "output_type": "stream",
     "text": [
      "test: (21731, 37136) rate is 0.5851734166307626\n",
      "control: (16046, 32189) rate is 0.4984932740998478\n",
      "[21731, 16046]\n",
      "[37136, 32189]\n",
      "Z = 22.85684118615931, p = 1.0\n"
     ]
    }
   ],
   "source": [
    "#H0 test_completion >= control_completion\n",
    "#H1 test_completion < control_completion\n",
    "\n",
    "test_results = get_completion_data(get_group(final_web_df_clean)[0])\n",
    "print(f'test: {test_results} rate is {test_results[0]/test_results[1]}')\n",
    "test_completions = test_results[0]\n",
    "test_count = test_results[1]\n",
    "\n",
    "control_results = get_completion_data(get_group(final_web_df_clean)[1])\n",
    "print(f'control: {control_results} rate is {control_results[0]/control_results[1]}')\n",
    "control_completions = control_results[0]\n",
    "control_count = control_results[1]\n",
    "\n",
    "# Example data\n",
    "confirms = [test_completions, control_completions]      # number of completions\n",
    "print(confirms)\n",
    "users = [test_count, control_count]        # number of users\n",
    "print(users)\n",
    "\n",
    "# Run the test\n",
    "z_stat, p_value = proportions_ztest(confirms, users, alternative='smaller')\n",
    "\n",
    "# Output\n",
    "print(f\"Z = {z_stat}, p = {p_value}\")"
   ]
  },
  {
   "cell_type": "markdown",
   "id": "99206d25",
   "metadata": {},
   "source": [
    "We failed to reject the null hypothesis, meaning test completion rate is statistically greater than control completion rate"
   ]
  },
  {
   "cell_type": "code",
   "execution_count": null,
   "id": "15372419",
   "metadata": {},
   "outputs": [
    {
     "data": {
      "text/plain": [
       "TtestResult(statistic=-2.4735228763852497, pvalue=0.01337956065967237, df=223686.74222769885)"
      ]
     },
     "execution_count": 35,
     "metadata": {},
     "output_type": "execute_result"
    }
   ],
   "source": [
    "#H0 avg time step control = avg time step test\n",
    "#h1 avg time step control != avg time step test\n",
    "\n",
    "#significance level: 5%\n",
    "test = time_spent_on_each_step(get_group(final_web_df_clean)[0]).dropna().dt.seconds\n",
    "control = time_spent_on_each_step(get_group(final_web_df_clean)[1]).dropna().dt.seconds\n",
    "\n",
    "#H0: mu_price female <= mu_price male\n",
    "#H1: mu_price female > mu_price male\n",
    "\n",
    "alpha = 0.05\n",
    "\n",
    "\n",
    "st.ttest_ind(control, test, equal_var=False) "
   ]
  },
  {
   "cell_type": "code",
   "execution_count": 28,
   "id": "d9d2e540",
   "metadata": {},
   "outputs": [
    {
     "data": {
      "text/plain": [
       "83.60300189750623"
      ]
     },
     "execution_count": 28,
     "metadata": {},
     "output_type": "execute_result"
    }
   ],
   "source": [
    "test = time_spent_on_each_step(get_group(final_web_df_clean)[0]).dropna().dt.seconds.mean()\n",
    "test"
   ]
  },
  {
   "cell_type": "code",
   "execution_count": 29,
   "id": "21c8a028",
   "metadata": {},
   "outputs": [
    {
     "data": {
      "text/plain": [
       "81.46148661400339"
      ]
     },
     "execution_count": 29,
     "metadata": {},
     "output_type": "execute_result"
    }
   ],
   "source": [
    "control = time_spent_on_each_step(get_group(final_web_df_clean)[1]).dropna().dt.seconds.mean()\n",
    "control"
   ]
  },
  {
   "cell_type": "markdown",
   "id": "148d4461",
   "metadata": {},
   "source": [
    "We have gathered enough evidence to reject the null hypothesis, meaning avg time per step is different"
   ]
  },
  {
   "cell_type": "code",
   "execution_count": null,
   "id": "16692b57",
   "metadata": {},
   "outputs": [
    {
     "data": {
      "text/plain": [
       "TtestResult(statistic=-2.4735228763852497, pvalue=0.006689780329836185, df=223686.74222769885)"
      ]
     },
     "execution_count": 44,
     "metadata": {},
     "output_type": "execute_result"
    }
   ],
   "source": [
    "#H0 avg time step control >= avg time step test\n",
    "#h1 avg time step control < avg time step test\n",
    "\n",
    "#significance level: 5%\n",
    "test = time_spent_on_each_step(get_group(final_web_df_clean)[0]).dropna().dt.seconds\n",
    "control = time_spent_on_each_step(get_group(final_web_df_clean)[1]).dropna().dt.seconds\n",
    "\n",
    "#H0: mu_price female <= mu_price male\n",
    "#H1: mu_price female > mu_price male\n",
    "\n",
    "alpha = 0.05\n",
    "\n",
    "\n",
    "st.ttest_ind(control, test, equal_var=False, alternative='less') "
   ]
  },
  {
   "cell_type": "markdown",
   "id": "2fb89bac",
   "metadata": {},
   "source": [
    "We have gathered enough evidence to reject the null hypothesis, meaning avg time per step is lower in control than in test"
   ]
  },
  {
   "cell_type": "code",
   "execution_count": null,
   "id": "b3f8dbb5",
   "metadata": {},
   "outputs": [
    {
     "name": "stderr",
     "output_type": "stream",
     "text": [
      "C:\\Users\\Santi\\AppData\\Local\\Temp\\ipykernel_21528\\3948345921.py:7: SettingWithCopyWarning: \n",
      "A value is trying to be set on a copy of a slice from a DataFrame.\n",
      "Try using .loc[row_indexer,col_indexer] = value instead\n",
      "\n",
      "See the caveats in the documentation: https://pandas.pydata.org/pandas-docs/stable/user_guide/indexing.html#returning-a-view-versus-a-copy\n",
      "  filered['duration'] = pd.to_datetime(filered['next_date_time'])-pd.to_datetime(filered['date_time'])\n",
      "C:\\Users\\Santi\\AppData\\Local\\Temp\\ipykernel_21528\\3948345921.py:7: SettingWithCopyWarning: \n",
      "A value is trying to be set on a copy of a slice from a DataFrame.\n",
      "Try using .loc[row_indexer,col_indexer] = value instead\n",
      "\n",
      "See the caveats in the documentation: https://pandas.pydata.org/pandas-docs/stable/user_guide/indexing.html#returning-a-view-versus-a-copy\n",
      "  filered['duration'] = pd.to_datetime(filered['next_date_time'])-pd.to_datetime(filered['date_time'])\n"
     ]
    },
    {
     "data": {
      "text/plain": [
       "TtestResult(statistic=1.3285378084709352, pvalue=0.18400484193046876, df=69853.80902465513)"
      ]
     },
     "execution_count": 36,
     "metadata": {},
     "output_type": "execute_result"
    }
   ],
   "source": [
    "#H0 avg time step control = avg time step test\n",
    "#h1 avg time step control != avg time step test\n",
    "\n",
    "#significance level: 5%\n",
    "test = time_spent_on_step(get_group(final_web_df_clean)[0],'start').dropna().dt.seconds\n",
    "control = time_spent_on_step(get_group(final_web_df_clean)[1], 'start').dropna().dt.seconds\n",
    "\n",
    "#H0: mu_price female <= mu_price male\n",
    "#H1: mu_price female > mu_price male\n",
    "\n",
    "alpha = 0.05\n",
    "\n",
    "\n",
    "st.ttest_ind(control, test, equal_var=False) "
   ]
  },
  {
   "cell_type": "code",
   "execution_count": null,
   "id": "dc470460",
   "metadata": {},
   "outputs": [
    {
     "name": "stderr",
     "output_type": "stream",
     "text": [
      "C:\\Users\\Santi\\AppData\\Local\\Temp\\ipykernel_21528\\3948345921.py:7: SettingWithCopyWarning: \n",
      "A value is trying to be set on a copy of a slice from a DataFrame.\n",
      "Try using .loc[row_indexer,col_indexer] = value instead\n",
      "\n",
      "See the caveats in the documentation: https://pandas.pydata.org/pandas-docs/stable/user_guide/indexing.html#returning-a-view-versus-a-copy\n",
      "  filered['duration'] = pd.to_datetime(filered['next_date_time'])-pd.to_datetime(filered['date_time'])\n",
      "C:\\Users\\Santi\\AppData\\Local\\Temp\\ipykernel_21528\\3948345921.py:7: SettingWithCopyWarning: \n",
      "A value is trying to be set on a copy of a slice from a DataFrame.\n",
      "Try using .loc[row_indexer,col_indexer] = value instead\n",
      "\n",
      "See the caveats in the documentation: https://pandas.pydata.org/pandas-docs/stable/user_guide/indexing.html#returning-a-view-versus-a-copy\n",
      "  filered['duration'] = pd.to_datetime(filered['next_date_time'])-pd.to_datetime(filered['date_time'])\n"
     ]
    },
    {
     "data": {
      "text/plain": [
       "TtestResult(statistic=-8.47130410256885, pvalue=2.4863793401155754e-17, df=54328.46783092632)"
      ]
     },
     "execution_count": 37,
     "metadata": {},
     "output_type": "execute_result"
    }
   ],
   "source": [
    "#H0 avg time step control = avg time step test\n",
    "#h1 avg time step control != avg time step test\n",
    "\n",
    "#significance level: 5%\n",
    "test = time_spent_on_step(get_group(final_web_df_clean)[0],'step_1').dropna().dt.seconds\n",
    "control = time_spent_on_step(get_group(final_web_df_clean)[1], 'step_1').dropna().dt.seconds\n",
    "\n",
    "#H0: mu_price female <= mu_price male\n",
    "#H1: mu_price female > mu_price male\n",
    "\n",
    "alpha = 0.05\n",
    "\n",
    "\n",
    "st.ttest_ind(control, test, equal_var=False) "
   ]
  },
  {
   "cell_type": "code",
   "execution_count": null,
   "id": "94cf37da",
   "metadata": {},
   "outputs": [
    {
     "name": "stderr",
     "output_type": "stream",
     "text": [
      "C:\\Users\\Santi\\AppData\\Local\\Temp\\ipykernel_21528\\3948345921.py:7: SettingWithCopyWarning: \n",
      "A value is trying to be set on a copy of a slice from a DataFrame.\n",
      "Try using .loc[row_indexer,col_indexer] = value instead\n",
      "\n",
      "See the caveats in the documentation: https://pandas.pydata.org/pandas-docs/stable/user_guide/indexing.html#returning-a-view-versus-a-copy\n",
      "  filered['duration'] = pd.to_datetime(filered['next_date_time'])-pd.to_datetime(filered['date_time'])\n",
      "C:\\Users\\Santi\\AppData\\Local\\Temp\\ipykernel_21528\\3948345921.py:7: SettingWithCopyWarning: \n",
      "A value is trying to be set on a copy of a slice from a DataFrame.\n",
      "Try using .loc[row_indexer,col_indexer] = value instead\n",
      "\n",
      "See the caveats in the documentation: https://pandas.pydata.org/pandas-docs/stable/user_guide/indexing.html#returning-a-view-versus-a-copy\n",
      "  filered['duration'] = pd.to_datetime(filered['next_date_time'])-pd.to_datetime(filered['date_time'])\n"
     ]
    },
    {
     "data": {
      "text/plain": [
       "TtestResult(statistic=-8.47130410256885, pvalue=1.0, df=54328.46783092632)"
      ]
     },
     "execution_count": 46,
     "metadata": {},
     "output_type": "execute_result"
    }
   ],
   "source": [
    "#H0 avg time step control <= avg time step test\n",
    "#h1 avg time step control > avg time step test\n",
    "\n",
    "#significance level: 5%\n",
    "test = time_spent_on_step(get_group(final_web_df_clean)[0],'step_1').dropna().dt.seconds\n",
    "control = time_spent_on_step(get_group(final_web_df_clean)[1], 'step_1').dropna().dt.seconds\n",
    "\n",
    "#H0: mu_price female <= mu_price male\n",
    "#H1: mu_price female > mu_price male\n",
    "\n",
    "alpha = 0.05\n",
    "\n",
    "\n",
    "st.ttest_ind(control, test, equal_var=False, alternative='greater') "
   ]
  },
  {
   "cell_type": "markdown",
   "id": "caf084ee",
   "metadata": {},
   "source": [
    "We failed to reject the null hypothesis, time spent in step 1 in control is lower than in test"
   ]
  },
  {
   "cell_type": "code",
   "execution_count": null,
   "id": "4270a826",
   "metadata": {},
   "outputs": [
    {
     "name": "stderr",
     "output_type": "stream",
     "text": [
      "C:\\Users\\Santi\\AppData\\Local\\Temp\\ipykernel_21528\\3948345921.py:7: SettingWithCopyWarning: \n",
      "A value is trying to be set on a copy of a slice from a DataFrame.\n",
      "Try using .loc[row_indexer,col_indexer] = value instead\n",
      "\n",
      "See the caveats in the documentation: https://pandas.pydata.org/pandas-docs/stable/user_guide/indexing.html#returning-a-view-versus-a-copy\n",
      "  filered['duration'] = pd.to_datetime(filered['next_date_time'])-pd.to_datetime(filered['date_time'])\n",
      "C:\\Users\\Santi\\AppData\\Local\\Temp\\ipykernel_21528\\3948345921.py:7: SettingWithCopyWarning: \n",
      "A value is trying to be set on a copy of a slice from a DataFrame.\n",
      "Try using .loc[row_indexer,col_indexer] = value instead\n",
      "\n",
      "See the caveats in the documentation: https://pandas.pydata.org/pandas-docs/stable/user_guide/indexing.html#returning-a-view-versus-a-copy\n",
      "  filered['duration'] = pd.to_datetime(filered['next_date_time'])-pd.to_datetime(filered['date_time'])\n"
     ]
    },
    {
     "data": {
      "text/plain": [
       "TtestResult(statistic=2.0722440653615943, pvalue=0.03824845971927336, df=44278.01654815245)"
      ]
     },
     "execution_count": 38,
     "metadata": {},
     "output_type": "execute_result"
    }
   ],
   "source": [
    "#H0 avg time step control = avg time step test\n",
    "#h1 avg time step control != avg time step test\n",
    "\n",
    "#significance level: 5%\n",
    "test = time_spent_on_step(get_group(final_web_df_clean)[0],'step_2').dropna().dt.seconds\n",
    "control = time_spent_on_step(get_group(final_web_df_clean)[1], 'step_2').dropna().dt.seconds\n",
    "\n",
    "#H0: mu_price female <= mu_price male\n",
    "#H1: mu_price female > mu_price male\n",
    "\n",
    "alpha = 0.05\n",
    "\n",
    "\n",
    "st.ttest_ind(control, test, equal_var=False) "
   ]
  },
  {
   "cell_type": "code",
   "execution_count": null,
   "id": "26a000d7",
   "metadata": {},
   "outputs": [
    {
     "name": "stderr",
     "output_type": "stream",
     "text": [
      "C:\\Users\\Santi\\AppData\\Local\\Temp\\ipykernel_21528\\3948345921.py:7: SettingWithCopyWarning: \n",
      "A value is trying to be set on a copy of a slice from a DataFrame.\n",
      "Try using .loc[row_indexer,col_indexer] = value instead\n",
      "\n",
      "See the caveats in the documentation: https://pandas.pydata.org/pandas-docs/stable/user_guide/indexing.html#returning-a-view-versus-a-copy\n",
      "  filered['duration'] = pd.to_datetime(filered['next_date_time'])-pd.to_datetime(filered['date_time'])\n",
      "C:\\Users\\Santi\\AppData\\Local\\Temp\\ipykernel_21528\\3948345921.py:7: SettingWithCopyWarning: \n",
      "A value is trying to be set on a copy of a slice from a DataFrame.\n",
      "Try using .loc[row_indexer,col_indexer] = value instead\n",
      "\n",
      "See the caveats in the documentation: https://pandas.pydata.org/pandas-docs/stable/user_guide/indexing.html#returning-a-view-versus-a-copy\n",
      "  filered['duration'] = pd.to_datetime(filered['next_date_time'])-pd.to_datetime(filered['date_time'])\n"
     ]
    },
    {
     "data": {
      "text/plain": [
       "TtestResult(statistic=2.0722440653615943, pvalue=0.01912422985963668, df=44278.01654815245)"
      ]
     },
     "execution_count": 47,
     "metadata": {},
     "output_type": "execute_result"
    }
   ],
   "source": [
    "#H0 avg time step control <= avg time step test\n",
    "#h1 avg time step control > avg time step test\n",
    "\n",
    "#significance level: 5%\n",
    "test = time_spent_on_step(get_group(final_web_df_clean)[0],'step_2').dropna().dt.seconds\n",
    "control = time_spent_on_step(get_group(final_web_df_clean)[1], 'step_2').dropna().dt.seconds\n",
    "\n",
    "#H0: mu_price female <= mu_price male\n",
    "#H1: mu_price female > mu_price male\n",
    "\n",
    "alpha = 0.05\n",
    "\n",
    "\n",
    "st.ttest_ind(control, test, equal_var=False, alternative='greater') "
   ]
  },
  {
   "cell_type": "markdown",
   "id": "de8f719d",
   "metadata": {},
   "source": [
    "We reject the null hypothesis, time spent in step 2 in control is higher than in test"
   ]
  },
  {
   "cell_type": "code",
   "execution_count": null,
   "id": "57fde9f3",
   "metadata": {},
   "outputs": [
    {
     "name": "stderr",
     "output_type": "stream",
     "text": [
      "C:\\Users\\Santi\\AppData\\Local\\Temp\\ipykernel_21528\\3948345921.py:7: SettingWithCopyWarning: \n",
      "A value is trying to be set on a copy of a slice from a DataFrame.\n",
      "Try using .loc[row_indexer,col_indexer] = value instead\n",
      "\n",
      "See the caveats in the documentation: https://pandas.pydata.org/pandas-docs/stable/user_guide/indexing.html#returning-a-view-versus-a-copy\n",
      "  filered['duration'] = pd.to_datetime(filered['next_date_time'])-pd.to_datetime(filered['date_time'])\n",
      "C:\\Users\\Santi\\AppData\\Local\\Temp\\ipykernel_21528\\3948345921.py:7: SettingWithCopyWarning: \n",
      "A value is trying to be set on a copy of a slice from a DataFrame.\n",
      "Try using .loc[row_indexer,col_indexer] = value instead\n",
      "\n",
      "See the caveats in the documentation: https://pandas.pydata.org/pandas-docs/stable/user_guide/indexing.html#returning-a-view-versus-a-copy\n",
      "  filered['duration'] = pd.to_datetime(filered['next_date_time'])-pd.to_datetime(filered['date_time'])\n"
     ]
    },
    {
     "data": {
      "text/plain": [
       "TtestResult(statistic=3.1104131304924394, pvalue=0.0018694479550546612, df=44148.57027584107)"
      ]
     },
     "execution_count": 39,
     "metadata": {},
     "output_type": "execute_result"
    }
   ],
   "source": [
    "#H0 avg time step control = avg time step test\n",
    "#h1 avg time step control != avg time step test\n",
    "\n",
    "#significance level: 5%\n",
    "test = time_spent_on_step(get_group(final_web_df_clean)[0],'step_3').dropna().dt.seconds\n",
    "control = time_spent_on_step(get_group(final_web_df_clean)[1], 'step_3').dropna().dt.seconds\n",
    "\n",
    "#H0: mu_price female <= mu_price male\n",
    "#H1: mu_price female > mu_price male\n",
    "\n",
    "alpha = 0.05\n",
    "\n",
    "\n",
    "st.ttest_ind(control, test, equal_var=False) "
   ]
  },
  {
   "cell_type": "code",
   "execution_count": null,
   "id": "df2a137e",
   "metadata": {},
   "outputs": [
    {
     "name": "stderr",
     "output_type": "stream",
     "text": [
      "C:\\Users\\Santi\\AppData\\Local\\Temp\\ipykernel_21528\\3948345921.py:7: SettingWithCopyWarning: \n",
      "A value is trying to be set on a copy of a slice from a DataFrame.\n",
      "Try using .loc[row_indexer,col_indexer] = value instead\n",
      "\n",
      "See the caveats in the documentation: https://pandas.pydata.org/pandas-docs/stable/user_guide/indexing.html#returning-a-view-versus-a-copy\n",
      "  filered['duration'] = pd.to_datetime(filered['next_date_time'])-pd.to_datetime(filered['date_time'])\n",
      "C:\\Users\\Santi\\AppData\\Local\\Temp\\ipykernel_21528\\3948345921.py:7: SettingWithCopyWarning: \n",
      "A value is trying to be set on a copy of a slice from a DataFrame.\n",
      "Try using .loc[row_indexer,col_indexer] = value instead\n",
      "\n",
      "See the caveats in the documentation: https://pandas.pydata.org/pandas-docs/stable/user_guide/indexing.html#returning-a-view-versus-a-copy\n",
      "  filered['duration'] = pd.to_datetime(filered['next_date_time'])-pd.to_datetime(filered['date_time'])\n"
     ]
    },
    {
     "data": {
      "text/plain": [
       "TtestResult(statistic=3.1104131304924394, pvalue=0.0009347239775273306, df=44148.57027584107)"
      ]
     },
     "execution_count": 48,
     "metadata": {},
     "output_type": "execute_result"
    }
   ],
   "source": [
    "#H0 avg time step control <= avg time step test\n",
    "#h1 avg time step control > avg time step test\n",
    "\n",
    "#significance level: 5%\n",
    "test = time_spent_on_step(get_group(final_web_df_clean)[0],'step_3').dropna().dt.seconds\n",
    "control = time_spent_on_step(get_group(final_web_df_clean)[1], 'step_3').dropna().dt.seconds\n",
    "\n",
    "#H0: mu_price female <= mu_price male\n",
    "#H1: mu_price female > mu_price male\n",
    "\n",
    "alpha = 0.05\n",
    "\n",
    "\n",
    "st.ttest_ind(control, test, equal_var=False, alternative = 'greater') "
   ]
  },
  {
   "cell_type": "markdown",
   "id": "56388175",
   "metadata": {},
   "source": [
    "We reject the null hypothesis, meaning avg time spent in step 3 is greater in control than test"
   ]
  },
  {
   "cell_type": "code",
   "execution_count": 84,
   "id": "5c5ec1d2",
   "metadata": {},
   "outputs": [
    {
     "name": "stdout",
     "output_type": "stream",
     "text": [
      "test: (6255, 37136) rate is 0.16843494183541577\n",
      "control: (7040, 32189) rate is 0.21870825437261177\n",
      "[6255, 7040]\n",
      "[37136, 32189]\n",
      "Z = -16.767922696948474, p = 4.1889933438426435e-63\n"
     ]
    }
   ],
   "source": [
    "#H0 test_error = control_error\n",
    "#H1 test_error != control_error\n",
    "\n",
    "test_results = get_error_data(get_group(final_web_df_clean)[0])\n",
    "print(f'test: {test_results} rate is {test_results[0]/test_results[1]}')\n",
    "test_completions = test_results[0]\n",
    "test_count = test_results[1]\n",
    "\n",
    "control_results = get_error_data(get_group(final_web_df_clean)[1])\n",
    "print(f'control: {control_results} rate is {control_results[0]/control_results[1]}')\n",
    "control_completions = control_results[0]\n",
    "control_count = control_results[1]\n",
    "\n",
    "# Example data\n",
    "confirms = [test_completions, control_completions]      # number of completions\n",
    "print(confirms)\n",
    "users = [test_count, control_count]        # number of users\n",
    "print(users)\n",
    "\n",
    "# Run the test\n",
    "z_stat, p_value = proportions_ztest(confirms, users)\n",
    "\n",
    "# Output\n",
    "print(f\"Z = {z_stat}, p = {p_value}\")"
   ]
  },
  {
   "cell_type": "markdown",
   "id": "b87fe04e",
   "metadata": {},
   "source": [
    "We failed to reject the null hypothesis, meaning test error rate and control error rate are not equal"
   ]
  },
  {
   "cell_type": "code",
   "execution_count": 44,
   "id": "ba9677c5",
   "metadata": {},
   "outputs": [
    {
     "name": "stdout",
     "output_type": "stream",
     "text": [
      "test: (6257, 37136) rate is 0.1684887979319259\n",
      "control: (7048, 32189) rate is 0.21895678647985337\n",
      "[6257, 7048]\n",
      "[37136, 32189]\n",
      "Z = -16.828028825626554, p = 1.0\n"
     ]
    }
   ],
   "source": [
    "#H0 test_error <= control_error\n",
    "#H1 test_error > control_error\n",
    "\n",
    "test_results = get_error_data(get_group(final_web_df_clean)[0])\n",
    "print(f'test: {test_results[0],test_results[1]} rate is {test_results[0]/test_results[1]}')\n",
    "test_completions = test_results[0]\n",
    "test_count = test_results[1]\n",
    "\n",
    "control_results = get_error_data(get_group(final_web_df_clean)[1])\n",
    "print(f'control: {control_results[0],control_results[1]} rate is {control_results[0]/control_results[1]}')\n",
    "control_completions = control_results[0]\n",
    "control_count = control_results[1]\n",
    "\n",
    "# Example data\n",
    "confirms = [test_completions, control_completions]      # number of completions\n",
    "print(confirms)\n",
    "users = [test_count, control_count]        # number of users\n",
    "print(users)\n",
    "\n",
    "# Run the test\n",
    "z_stat, p_value = proportions_ztest(confirms, users, alternative='larger')\n",
    "\n",
    "# Output\n",
    "print(f\"Z = {z_stat}, p = {p_value}\")"
   ]
  },
  {
   "cell_type": "markdown",
   "id": "ed26297f",
   "metadata": {},
   "source": [
    "We failed to reject the null hypothesis, meaning error rate in test is smaller than control"
   ]
  },
  {
   "cell_type": "code",
   "execution_count": 47,
   "id": "5c95054d",
   "metadata": {},
   "outputs": [],
   "source": [
    "pwd = getpass()"
   ]
  },
  {
   "cell_type": "code",
   "execution_count": 48,
   "id": "299fcb52",
   "metadata": {},
   "outputs": [],
   "source": [
    "conection = pymysql.connect"
   ]
  },
  {
   "cell_type": "code",
   "execution_count": 49,
   "id": "2ed79bdf",
   "metadata": {},
   "outputs": [],
   "source": [
    "bd = \"vanguard\"\n",
    "connection_string = 'mysql+pymysql://root:' + pwd + '@localhost/'+bd\n",
    "engine = create_engine(connection_string)"
   ]
  },
  {
   "cell_type": "code",
   "execution_count": 51,
   "id": "999f098e",
   "metadata": {},
   "outputs": [],
   "source": [
    "duration_p =r'..\\Data\\Clean\\final_web_df_tableau.csv'\n",
    "demo_p = r'..\\Data\\Clean\\demo_df_clean.csv'\n",
    "generation_p = r'..\\Data\\Clean\\clnt_gen_df_clean.csv'\n",
    "\n",
    "duration = pd.read_csv(duration_p)\n",
    "errors = get_error_data(final_web_df_clean)[2]\n",
    "demographic = pd.read_csv(demo_p)\n",
    "generation = pd.read_csv(generation_p)"
   ]
  },
  {
   "cell_type": "code",
   "execution_count": 52,
   "id": "b0905bc1",
   "metadata": {},
   "outputs": [
    {
     "data": {
      "text/plain": [
       "50488"
      ]
     },
     "execution_count": 52,
     "metadata": {},
     "output_type": "execute_result"
    }
   ],
   "source": [
    "duration.to_sql(name='visit_duration', con=engine)\n",
    "errors.to_sql(name='visit_errors', con=engine)\n",
    "demographic.to_sql(name='clients', con=engine)\n",
    "generation.to_sql(name='client_generation', con=engine)"
   ]
  },
  {
   "cell_type": "code",
   "execution_count": null,
   "id": "5171e5c2",
   "metadata": {},
   "outputs": [],
   "source": [
    "def get_tableau_csv():\n",
    "\n",
    "\n",
    "\n",
    "\n",
    "    duration_error = pd.merge(duration, errors, how='left', on=['client_id', 'visit_id', 'process_step']) \\\n",
    "                       .drop(columns=['Unnamed: 0', 'step_int', 'next_expected_step'])\n",
    "\n",
    "    demographic_merged = pd.merge(duration_error, demographic, how='left', on=['client_id', 'Variation']) \\\n",
    "                            .drop(columns=['Unnamed: 0'])\n",
    "\n",
    "    tableau_merged = pd.merge(demographic_merged, generation, how='left', on=['client_id', 'Variation', 'gendr'])\n",
    "\n",
    "    return tableau_merged"
   ]
  },
  {
   "cell_type": "code",
   "execution_count": null,
   "id": "17ece23f",
   "metadata": {},
   "outputs": [],
   "source": [
    "get_tableau_csv().to_csv('analytics.csv')\n"
   ]
  },
  {
   "cell_type": "code",
   "execution_count": null,
   "id": "925d6c35",
   "metadata": {},
   "outputs": [],
   "source": []
  }
 ],
 "metadata": {
  "kernelspec": {
   "display_name": "base",
   "language": "python",
   "name": "python3"
  },
  "language_info": {
   "codemirror_mode": {
    "name": "ipython",
    "version": 3
   },
   "file_extension": ".py",
   "mimetype": "text/x-python",
   "name": "python",
   "nbconvert_exporter": "python",
   "pygments_lexer": "ipython3",
   "version": "3.12.7"
  }
 },
 "nbformat": 4,
 "nbformat_minor": 5
}
