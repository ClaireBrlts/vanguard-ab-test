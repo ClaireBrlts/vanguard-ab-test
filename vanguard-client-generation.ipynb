{
 "cells": [
  {
   "cell_type": "code",
   "execution_count": 71,
   "id": "d2ea4fd9",
   "metadata": {},
   "outputs": [],
   "source": [
    "import pandas as pd\n",
    "from scipy.stats import chi2_contingency\n",
    "from scipy.stats.contingency import association\n",
    "\n",
    "import seaborn as sns\n",
    "import matplotlib.pyplot as plt"
   ]
  },
  {
   "cell_type": "code",
   "execution_count": 2,
   "id": "13e826d2",
   "metadata": {},
   "outputs": [
    {
     "name": "stderr",
     "output_type": "stream",
     "text": [
      "<>:1: SyntaxWarning: invalid escape sequence '\\d'\n",
      "<>:2: SyntaxWarning: invalid escape sequence '\\d'\n",
      "<>:3: SyntaxWarning: invalid escape sequence '\\d'\n",
      "<>:4: SyntaxWarning: invalid escape sequence '\\d'\n",
      "<>:1: SyntaxWarning: invalid escape sequence '\\d'\n",
      "<>:2: SyntaxWarning: invalid escape sequence '\\d'\n",
      "<>:3: SyntaxWarning: invalid escape sequence '\\d'\n",
      "<>:4: SyntaxWarning: invalid escape sequence '\\d'\n",
      "C:\\Users\\Santi\\AppData\\Local\\Temp\\ipykernel_25688\\4223594997.py:1: SyntaxWarning: invalid escape sequence '\\d'\n",
      "  demo_path ='Data\\df_final_demo.txt'\n",
      "C:\\Users\\Santi\\AppData\\Local\\Temp\\ipykernel_25688\\4223594997.py:2: SyntaxWarning: invalid escape sequence '\\d'\n",
      "  final_experiment_path = 'Data\\df_final_experiment_clients.txt'\n",
      "C:\\Users\\Santi\\AppData\\Local\\Temp\\ipykernel_25688\\4223594997.py:3: SyntaxWarning: invalid escape sequence '\\d'\n",
      "  final_web_data_1_path = 'Data\\df_final_web_data_pt_1.txt'\n",
      "C:\\Users\\Santi\\AppData\\Local\\Temp\\ipykernel_25688\\4223594997.py:4: SyntaxWarning: invalid escape sequence '\\d'\n",
      "  final_web_data_2_path = 'Data\\df_final_web_data_pt_2.txt'\n"
     ]
    }
   ],
   "source": [
    "demo_path ='Data\\df_final_demo.txt'\n",
    "final_experiment_path = 'Data\\df_final_experiment_clients.txt'\n",
    "final_web_data_1_path = 'Data\\df_final_web_data_pt_1.txt'\n",
    "final_web_data_2_path = 'Data\\df_final_web_data_pt_2.txt'"
   ]
  },
  {
   "cell_type": "code",
   "execution_count": 3,
   "id": "212a9a38",
   "metadata": {},
   "outputs": [],
   "source": [
    "demo_df = pd.read_csv(demo_path)"
   ]
  },
  {
   "cell_type": "code",
   "execution_count": 7,
   "id": "8d1db661",
   "metadata": {},
   "outputs": [],
   "source": [
    "half_df = pd.read_csv(final_web_data_1_path)\n",
    "half_df2 = pd.read_csv(final_web_data_2_path)\n",
    "web_df = pd.concat([half_df, half_df2])"
   ]
  },
  {
   "cell_type": "code",
   "execution_count": 64,
   "id": "ac6d3c40",
   "metadata": {},
   "outputs": [],
   "source": [
    "def get_generation():\n",
    "    \"\"\"\n",
    "    This function merges the demographic dataframe with the web dataframe to calculate the generation of each client:\n",
    "    Extracts year from date_time (from web dataframe)\n",
    "    Calculates year_born (year - age) -> rounded to 0 decimals\n",
    "    Calculates generation by binning year_born up until 2018 (data ends in 2017)\n",
    "    \"\"\"\n",
    "    merged_df = pd.merge(left=demo_df, right=web_df, how='inner', on='client_id')\n",
    "    merged_df['date_time'] = pd.to_datetime(merged_df['date_time'])\n",
    "    merged_df['year'] = merged_df['date_time'].dt.year\n",
    "        \n",
    "    gen_df = merged_df[['client_id', 'clnt_age', 'gendr', 'year']]\n",
    "    gen_df = gen_df.groupby(['client_id', 'gendr']).agg(age = ('clnt_age', 'mean'), year = ('year', 'mean')).reset_index()\n",
    "    gen_df['year_born'] = round(gen_df['year'] - gen_df['age'], 0)\n",
    "    bins = [1925, 1945, 1964, 1980, 1996, 2018]\n",
    "    labels = ['silent generation', 'baby boomers', 'generation x', 'millenial', 'generation z']\n",
    "    gen_df['generation'] = pd.cut(gen_df['year_born'], bins = bins, labels = labels)\n",
    "    gen_df = gen_df[['client_id', 'gendr', 'generation']]\n",
    "    return gen_df"
   ]
  },
  {
   "cell_type": "code",
   "execution_count": 65,
   "id": "46176ecc",
   "metadata": {},
   "outputs": [],
   "source": [
    "clnt_gen_df = get_generation()"
   ]
  },
  {
   "cell_type": "markdown",
   "id": "878b5641",
   "metadata": {},
   "source": [
    "Saves the csv"
   ]
  },
  {
   "cell_type": "code",
   "execution_count": 66,
   "id": "87eea8db",
   "metadata": {},
   "outputs": [],
   "source": [
    "clnt_gen_df.to_csv('clnt_gen.csv')"
   ]
  },
  {
   "cell_type": "markdown",
   "id": "c991db5f",
   "metadata": {},
   "source": [
    "Now we analyze the data"
   ]
  },
  {
   "cell_type": "code",
   "execution_count": 67,
   "id": "356c269f",
   "metadata": {},
   "outputs": [
    {
     "data": {
      "text/html": [
       "<div>\n",
       "<style scoped>\n",
       "    .dataframe tbody tr th:only-of-type {\n",
       "        vertical-align: middle;\n",
       "    }\n",
       "\n",
       "    .dataframe tbody tr th {\n",
       "        vertical-align: top;\n",
       "    }\n",
       "\n",
       "    .dataframe thead th {\n",
       "        text-align: right;\n",
       "    }\n",
       "</style>\n",
       "<table border=\"1\" class=\"dataframe\">\n",
       "  <thead>\n",
       "    <tr style=\"text-align: right;\">\n",
       "      <th></th>\n",
       "      <th>client_id</th>\n",
       "      <th>gendr</th>\n",
       "      <th>generation</th>\n",
       "    </tr>\n",
       "  </thead>\n",
       "  <tbody>\n",
       "    <tr>\n",
       "      <th>0</th>\n",
       "      <td>169</td>\n",
       "      <td>M</td>\n",
       "      <td>generation x</td>\n",
       "    </tr>\n",
       "    <tr>\n",
       "      <th>1</th>\n",
       "      <td>555</td>\n",
       "      <td>U</td>\n",
       "      <td>millenial</td>\n",
       "    </tr>\n",
       "    <tr>\n",
       "      <th>2</th>\n",
       "      <td>647</td>\n",
       "      <td>M</td>\n",
       "      <td>baby boomers</td>\n",
       "    </tr>\n",
       "    <tr>\n",
       "      <th>3</th>\n",
       "      <td>722</td>\n",
       "      <td>F</td>\n",
       "      <td>baby boomers</td>\n",
       "    </tr>\n",
       "    <tr>\n",
       "      <th>4</th>\n",
       "      <td>934</td>\n",
       "      <td>F</td>\n",
       "      <td>generation x</td>\n",
       "    </tr>\n",
       "    <tr>\n",
       "      <th>...</th>\n",
       "      <td>...</td>\n",
       "      <td>...</td>\n",
       "      <td>...</td>\n",
       "    </tr>\n",
       "    <tr>\n",
       "      <th>70590</th>\n",
       "      <td>9999400</td>\n",
       "      <td>U</td>\n",
       "      <td>millenial</td>\n",
       "    </tr>\n",
       "    <tr>\n",
       "      <th>70591</th>\n",
       "      <td>9999626</td>\n",
       "      <td>M</td>\n",
       "      <td>millenial</td>\n",
       "    </tr>\n",
       "    <tr>\n",
       "      <th>70592</th>\n",
       "      <td>9999729</td>\n",
       "      <td>F</td>\n",
       "      <td>millenial</td>\n",
       "    </tr>\n",
       "    <tr>\n",
       "      <th>70593</th>\n",
       "      <td>9999832</td>\n",
       "      <td>F</td>\n",
       "      <td>generation x</td>\n",
       "    </tr>\n",
       "    <tr>\n",
       "      <th>70594</th>\n",
       "      <td>9999839</td>\n",
       "      <td>F</td>\n",
       "      <td>millenial</td>\n",
       "    </tr>\n",
       "  </tbody>\n",
       "</table>\n",
       "<p>70595 rows × 3 columns</p>\n",
       "</div>"
      ],
      "text/plain": [
       "       client_id gendr    generation\n",
       "0            169     M  generation x\n",
       "1            555     U     millenial\n",
       "2            647     M  baby boomers\n",
       "3            722     F  baby boomers\n",
       "4            934     F  generation x\n",
       "...          ...   ...           ...\n",
       "70590    9999400     U     millenial\n",
       "70591    9999626     M     millenial\n",
       "70592    9999729     F     millenial\n",
       "70593    9999832     F  generation x\n",
       "70594    9999839     F     millenial\n",
       "\n",
       "[70595 rows x 3 columns]"
      ]
     },
     "execution_count": 67,
     "metadata": {},
     "output_type": "execute_result"
    }
   ],
   "source": [
    "clnt_gen_df"
   ]
  },
  {
   "cell_type": "code",
   "execution_count": 69,
   "id": "386fd70e",
   "metadata": {},
   "outputs": [
    {
     "data": {
      "text/html": [
       "<div>\n",
       "<style scoped>\n",
       "    .dataframe tbody tr th:only-of-type {\n",
       "        vertical-align: middle;\n",
       "    }\n",
       "\n",
       "    .dataframe tbody tr th {\n",
       "        vertical-align: top;\n",
       "    }\n",
       "\n",
       "    .dataframe thead th {\n",
       "        text-align: right;\n",
       "    }\n",
       "</style>\n",
       "<table border=\"1\" class=\"dataframe\">\n",
       "  <thead>\n",
       "    <tr style=\"text-align: right;\">\n",
       "      <th>generation</th>\n",
       "      <th>silent generation</th>\n",
       "      <th>baby boomers</th>\n",
       "      <th>generation x</th>\n",
       "      <th>millenial</th>\n",
       "      <th>generation z</th>\n",
       "    </tr>\n",
       "    <tr>\n",
       "      <th>gendr</th>\n",
       "      <th></th>\n",
       "      <th></th>\n",
       "      <th></th>\n",
       "      <th></th>\n",
       "      <th></th>\n",
       "    </tr>\n",
       "  </thead>\n",
       "  <tbody>\n",
       "    <tr>\n",
       "      <th>F</th>\n",
       "      <td>1200</td>\n",
       "      <td>9374</td>\n",
       "      <td>6925</td>\n",
       "      <td>5013</td>\n",
       "      <td>225</td>\n",
       "    </tr>\n",
       "    <tr>\n",
       "      <th>M</th>\n",
       "      <td>1283</td>\n",
       "      <td>9047</td>\n",
       "      <td>7298</td>\n",
       "      <td>5809</td>\n",
       "      <td>281</td>\n",
       "    </tr>\n",
       "  </tbody>\n",
       "</table>\n",
       "</div>"
      ],
      "text/plain": [
       "generation  silent generation  baby boomers  generation x  millenial  \\\n",
       "gendr                                                                  \n",
       "F                        1200          9374          6925       5013   \n",
       "M                        1283          9047          7298       5809   \n",
       "\n",
       "generation  generation z  \n",
       "gendr                     \n",
       "F                    225  \n",
       "M                    281  "
      ]
     },
     "execution_count": 69,
     "metadata": {},
     "output_type": "execute_result"
    }
   ],
   "source": [
    "m_mask = clnt_gen_df['gendr'] == 'M'\n",
    "f_mask = clnt_gen_df['gendr'] == 'F'\n",
    "\n",
    "masked_clnt_gen_df = clnt_gen_df[m_mask | f_mask]\n",
    "crosstab_result = pd.crosstab(masked_clnt_gen_df['gendr'], masked_clnt_gen_df['generation'])\n",
    "\n",
    "crosstab_result"
   ]
  },
  {
   "cell_type": "code",
   "execution_count": 73,
   "id": "43a1d29d",
   "metadata": {},
   "outputs": [
    {
     "data": {
      "text/plain": [
       "8.989959320105941e-13"
      ]
     },
     "execution_count": 73,
     "metadata": {},
     "output_type": "execute_result"
    }
   ],
   "source": [
    "\n",
    "\n",
    "# Chi-square test for 'MSZoning' and 'SaleCondition'\n",
    "_, chi2_p_value, _, expected = chi2_contingency(crosstab_result)\n",
    "\n",
    "chi2_p_value"
   ]
  },
  {
   "cell_type": "code",
   "execution_count": 74,
   "id": "a287a8aa",
   "metadata": {},
   "outputs": [
    {
     "data": {
      "text/plain": [
       "0.03665591233842304"
      ]
     },
     "execution_count": 74,
     "metadata": {},
     "output_type": "execute_result"
    }
   ],
   "source": [
    "association(crosstab_result, method=\"cramer\")"
   ]
  },
  {
   "cell_type": "code",
   "execution_count": 76,
   "id": "4e2a967a",
   "metadata": {},
   "outputs": [
    {
     "data": {
      "image/png": "[encoded data removed]",
      "text/plain": [
       "<Figure size 640x480 with 1 Axes>"
      ]
     },
     "metadata": {},
     "output_type": "display_data"
    }
   ],
   "source": [
    "sns.countplot(data=masked_clnt_gen_df, x='gendr', hue='generation')\n",
    "plt.show()"
   ]
  }
 ],
 "metadata": {
  "kernelspec": {
   "display_name": "base",
   "language": "python",
   "name": "python3"
  },
  "language_info": {
   "codemirror_mode": {
    "name": "ipython",
    "version": 3
   },
   "file_extension": ".py",
   "mimetype": "text/x-python",
   "name": "python",
   "nbconvert_exporter": "python",
   "pygments_lexer": "ipython3",
   "version": "3.12.7"
  }
 },
 "nbformat": 4,
 "nbformat_minor": 5
}
